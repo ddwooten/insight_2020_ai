{
 "cells": [
  {
   "cell_type": "markdown",
   "metadata": {},
   "source": [
    "# Exploratory Data Analysis\n",
    "\n",
    "## Daniel Wooten - January 21 2020"
   ]
  },
  {
   "cell_type": "code",
   "execution_count": 1,
   "metadata": {},
   "outputs": [],
   "source": [
    "# Import the packages we need\n",
    "import pandas as pd\n",
    "import numpy as np\n",
    "import sklearn as sk\n",
    "from matplotlib import pyplot as plt\n",
    "from datetime import datetime\n",
    "import pytz\n",
    "import re\n",
    "import random\n",
    "pd.set_option('display.max_columns', 50)\n",
    "%matplotlib inline"
   ]
  },
  {
   "cell_type": "code",
   "execution_count": 2,
   "metadata": {},
   "outputs": [],
   "source": [
    "# We will need this function later, norammly in another file, this is a notebook.\n",
    "\n",
    "def convert_to_pyz(entry):\n",
    "    \"\"\"This function converts time zone entries from the base data set into time zones acceptable by pytz\"\"\"\n",
    "    \n",
    "    try:\n",
    "        \n",
    "        entry = str(entry)\n",
    "        \n",
    "    except:\n",
    "        \n",
    "        entry = 'nan'\n",
    "    \n",
    "    out = 'Greenwich'\n",
    "    \n",
    "    pattern = re.compile(r'Beijing') \n",
    "    match = pattern.match(entry) \n",
    "    if match is not None:\n",
    "        out = 'Asia/Shanghai'\n",
    "\n",
    "\n",
    "    pattern = re.compile(r'Central Time \\(US & Canada\\)') \n",
    "    match = pattern.match(entry) \n",
    "    if match is not None:\n",
    "        out = 'US/Central'\n",
    "\n",
    "\n",
    "    pattern = re.compile(r'Amsterdam') \n",
    "    match = pattern.match(entry) \n",
    "    if match is not None:\n",
    "        out = 'Europe/Amsterdam'\n",
    "\n",
    "\n",
    "    pattern = re.compile(r'Pacific Time \\(US & Canada\\)') \n",
    "    match = pattern.match(entry) \n",
    "    if match is not None:\n",
    "        out = 'US/Pacific'\n",
    "\n",
    "\n",
    "    pattern = re.compile(r'nan') \n",
    "    match = pattern.match(entry) \n",
    "    if match is not None:\n",
    "        out = 'Greenwich'\n",
    "\n",
    "\n",
    "    pattern = re.compile(r'Edinburgh') \n",
    "    match = pattern.match(entry) \n",
    "    if match is not None:\n",
    "        out = 'Greenwich'\n",
    "\n",
    "\n",
    "    pattern = re.compile(r'Hong Kong') \n",
    "    match = pattern.match(entry) \n",
    "    if match is not None:\n",
    "        out = 'Asia/Hong_Kong'\n",
    "\n",
    "\n",
    "    pattern = re.compile(r'Eastern Time \\(US & Canada\\)') \n",
    "    match = pattern.match(entry) \n",
    "    if match is not None:\n",
    "        out = 'US/Eastern'\n",
    "\n",
    "\n",
    "    pattern = re.compile(r'Berlin') \n",
    "    match = pattern.match(entry) \n",
    "    if match is not None:\n",
    "        out = 'Europe/Berlin'\n",
    "\n",
    "\n",
    "    pattern = re.compile(r'Quito') \n",
    "    match = pattern.match(entry) \n",
    "    if match is not None:\n",
    "        out = 'Pacific/Galapagos'\n",
    "\n",
    "\n",
    "    pattern = re.compile(r'Paris') \n",
    "    match = pattern.match(entry) \n",
    "    if match is not None:\n",
    "        out = 'Europe/Paris'\n",
    "\n",
    "\n",
    "    pattern = re.compile(r'Athens') \n",
    "    match = pattern.match(entry) \n",
    "    if match is not None:\n",
    "        out = 'Europe/Athens'\n",
    "\n",
    "\n",
    "    pattern = re.compile(r'Santiago') \n",
    "    match = pattern.match(entry) \n",
    "    if match is not None:\n",
    "        out = 'America/Santiago'\n",
    "\n",
    "\n",
    "    pattern = re.compile(r'La Paz') \n",
    "    match = pattern.match(entry) \n",
    "    if match is not None:\n",
    "        out = 'America/La_Paz'\n",
    "\n",
    "\n",
    "    pattern = re.compile(r'Irkutsk') \n",
    "    match = pattern.match(entry) \n",
    "    if match is not None:\n",
    "        out = 'Asia/Irkutsk'\n",
    "\n",
    "\n",
    "    pattern = re.compile(r'Arizona') \n",
    "    match = pattern.match(entry) \n",
    "    if match is not None:\n",
    "        out = 'US/Arizona'\n",
    "\n",
    "\n",
    "    pattern = re.compile(r'Atlantic Time (Canada)') \n",
    "    match = pattern.match(entry) \n",
    "    if match is not None:\n",
    "        out = 'Canada/Atlantic'\n",
    "\n",
    "\n",
    "    pattern = re.compile(r'Dublin') \n",
    "    match = pattern.match(entry) \n",
    "    if match is not None:\n",
    "        out = 'Europe/Dublin'\n",
    "\n",
    "\n",
    "    pattern = re.compile(r'London') \n",
    "    match = pattern.match(entry) \n",
    "    if match is not None:\n",
    "        out = 'Europe/London'\n",
    "\n",
    "\n",
    "    pattern = re.compile(r'Madrid') \n",
    "    match = pattern.match(entry) \n",
    "    if match is not None:\n",
    "        out = 'Europe/Madrid'\n",
    "\n",
    "\n",
    "    pattern = re.compile(r'Brasilia') \n",
    "    match = pattern.match(entry) \n",
    "    if match is not None:\n",
    "        out = 'Brazil/DeNoronha'\n",
    "\n",
    "\n",
    "    pattern = re.compile(r'Osaka') \n",
    "    match = pattern.match(entry) \n",
    "    if match is not None:\n",
    "        out = 'Japan'\n",
    "\n",
    "\n",
    "    pattern = re.compile(r'Buenos Aires') \n",
    "    match = pattern.match(entry) \n",
    "    if match is not None:\n",
    "        out = 'America/Argentina/Buenos_Aires'\n",
    "\n",
    "\n",
    "    pattern = re.compile(r'Moscow') \n",
    "    match = pattern.match(entry) \n",
    "    if match is not None:\n",
    "        out = 'Europe/Moscow'\n",
    "\n",
    "\n",
    "    pattern = re.compile(r'Lisbon') \n",
    "    match = pattern.match(entry) \n",
    "    if match is not None:\n",
    "        out = 'Europe/Lisbon'\n",
    "\n",
    "\n",
    "    pattern = re.compile(r'Tokyo') \n",
    "    match = pattern.match(entry) \n",
    "    if match is not None:\n",
    "        out = 'Japan'\n",
    "\n",
    "\n",
    "    pattern = re.compile(r'Kuala Lumpur') \n",
    "    match = pattern.match(entry) \n",
    "    if match is not None:\n",
    "        out = 'Asia/Kuala_Lumpur'\n",
    "\n",
    "\n",
    "    pattern = re.compile(r'Caracas') \n",
    "    match = pattern.match(entry) \n",
    "    if match is not None:\n",
    "        out = 'America/Caracas'\n",
    "\n",
    "\n",
    "    pattern = re.compile(r'Jakarta') \n",
    "    match = pattern.match(entry) \n",
    "    if match is not None:\n",
    "        out = 'Asia/Jakarta'\n",
    "\n",
    "\n",
    "    pattern = re.compile(r'Abu Dhabi') \n",
    "    match = pattern.match(entry) \n",
    "    if match is not None:\n",
    "        out = 'Asia/Dubai'\n",
    "\n",
    "\n",
    "    pattern = re.compile(r'Bangkok') \n",
    "    match = pattern.match(entry) \n",
    "    if match is not None:\n",
    "        out = 'Asia/Bangkok'\n",
    "\n",
    "\n",
    "    pattern = re.compile(r'Casablanca') \n",
    "    match = pattern.match(entry) \n",
    "    if match is not None:\n",
    "        out = 'Africa/Casablanca'\n",
    "\n",
    "\n",
    "    pattern = re.compile(r'Hawaii') \n",
    "    match = pattern.match(entry) \n",
    "    if match is not None:\n",
    "        out = 'US/Hawaii'\n",
    "\n",
    "\n",
    "    pattern = re.compile(r'Mexico City') \n",
    "    match = pattern.match(entry) \n",
    "    if match is not None:\n",
    "        out = 'America/Mexico_City'\n",
    "\n",
    "\n",
    "    pattern = re.compile(r'Mountain Time \\(US & Canada\\)') \n",
    "    match = pattern.match(entry) \n",
    "    if match is not None:\n",
    "        out = 'US/Mountain'\n",
    "\n",
    "\n",
    "    pattern = re.compile(r'Baghdad') \n",
    "    match = pattern.match(entry) \n",
    "    if match is not None:\n",
    "        out = 'Asia/Baghdad'\n",
    "\n",
    "\n",
    "    pattern = re.compile(r'Belgrade') \n",
    "    match = pattern.match(entry) \n",
    "    if match is not None:\n",
    "        out = 'Europe/Belgrade'\n",
    "\n",
    "\n",
    "    pattern = re.compile(r'Copenhagen') \n",
    "    match = pattern.match(entry) \n",
    "    if match is not None:\n",
    "        out = 'Europe/Copenhagen'\n",
    "\n",
    "\n",
    "    pattern = re.compile(r'Rome') \n",
    "    match = pattern.match(entry) \n",
    "    if match is not None:\n",
    "        out = 'Europe/Rome'\n",
    "\n",
    "\n",
    "    pattern = re.compile(r'Tehran') \n",
    "    match = pattern.match(entry) \n",
    "    if match is not None:\n",
    "        out = 'Asia/Tehran'\n",
    "\n",
    "\n",
    "    pattern = re.compile(r'Lima') \n",
    "    match = pattern.match(entry) \n",
    "    if match is not None:\n",
    "        out = 'America/Lima'\n",
    "\n",
    "\n",
    "    pattern = re.compile(r'Sydney') \n",
    "    match = pattern.match(entry) \n",
    "    if match is not None:\n",
    "        out = 'Australia/Sydney'\n",
    "\n",
    "\n",
    "    pattern = re.compile(r'Helsinki') \n",
    "    match = pattern.match(entry) \n",
    "    if match is not None:\n",
    "        out = 'Europe/Helsinki'\n",
    "\n",
    "\n",
    "    pattern = re.compile(r'Tbilisi') \n",
    "    match = pattern.match(entry) \n",
    "    if match is not None:\n",
    "        out = 'Asia/Tbilisi'\n",
    "\n",
    "\n",
    "    pattern = re.compile(r'Alaska') \n",
    "    match = pattern.match(entry) \n",
    "    if match is not None:\n",
    "        out = 'US/Alaska'\n",
    "\n",
    "\n",
    "    pattern = re.compile(r'Sapporo') \n",
    "    match = pattern.match(entry) \n",
    "    if match is not None:\n",
    "        out = 'Japan'\n",
    "\n",
    "\n",
    "    pattern = re.compile(r'Bern') \n",
    "    match = pattern.match(entry) \n",
    "    if match is not None:\n",
    "        out = 'Europe/Zurich'\n",
    "\n",
    "\n",
    "    pattern = re.compile(r'Sofia') \n",
    "    match = pattern.match(entry) \n",
    "    if match is not None:\n",
    "        out = 'Europe/Sofia'\n",
    "\n",
    "\n",
    "    pattern = re.compile(r'Jerusalem') \n",
    "    match = pattern.match(entry) \n",
    "    if match is not None:\n",
    "        out = 'Asia/Jerusalem'\n",
    "\n",
    "\n",
    "    pattern = re.compile(r'West Central Africa') \n",
    "    match = pattern.match(entry) \n",
    "    if match is not None:\n",
    "        out = 'Africa/Khartoum'\n",
    "\n",
    "\n",
    "    pattern = re.compile(r'Brussels') \n",
    "    match = pattern.match(entry) \n",
    "    if match is not None:\n",
    "        out = 'Europe/Brussels'\n",
    "\n",
    "\n",
    "    pattern = re.compile(r'Ekaterinburg') \n",
    "    match = pattern.match(entry) \n",
    "    if match is not None:\n",
    "        out = 'Europe/Kaliningrad'\n",
    "\n",
    "\n",
    "    pattern = re.compile(r'Istanbul') \n",
    "    match = pattern.match(entry) \n",
    "    if match is not None:\n",
    "        out = 'Europe/Istanbul'\n",
    "\n",
    "\n",
    "    pattern = re.compile(r'Bogota') \n",
    "    match = pattern.match(entry) \n",
    "    if match is not None:\n",
    "        out = 'America/Bogota'\n",
    "\n",
    "\n",
    "    pattern = re.compile(r'Singapore') \n",
    "    match = pattern.match(entry) \n",
    "    if match is not None:\n",
    "        out = 'Asia/Singapore'\n",
    "\n",
    "\n",
    "    pattern = re.compile(r'International Date Line West') \n",
    "    match = pattern.match(entry) \n",
    "    if match is not None:\n",
    "        out = 'Pacific/Auckland'\n",
    "\n",
    "\n",
    "    pattern = re.compile(r'Pretoria') \n",
    "    match = pattern.match(entry) \n",
    "    if match is not None:\n",
    "        out = 'Africa/Johannesburg'\n",
    "\n",
    "\n",
    "    pattern = re.compile(r'Greenland') \n",
    "    match = pattern.match(entry) \n",
    "    if match is not None:\n",
    "        out = 'America/Godthab'\n",
    "\n",
    "\n",
    "    pattern = re.compile(r'Central America') \n",
    "    match = pattern.match(entry) \n",
    "    if match is not None:\n",
    "        out = 'US/Central'\n",
    "\n",
    "\n",
    "    pattern = re.compile(r'Melbourne') \n",
    "    match = pattern.match(entry) \n",
    "    if match is not None:\n",
    "        out = 'Australia/Lord_Howe'\n",
    "\n",
    "\n",
    "    pattern = re.compile(r'Novosibirsk') \n",
    "    match = pattern.match(entry) \n",
    "    if match is not None:\n",
    "        out = 'Europe/Kaliningrad'\n",
    "\n",
    "\n",
    "    pattern = re.compile(r'Warsaw') \n",
    "    match = pattern.match(entry) \n",
    "    if match is not None:\n",
    "        out = 'Europe/Warsaw'\n",
    "\n",
    "\n",
    "    pattern = re.compile(r'Perth') \n",
    "    match = pattern.match(entry) \n",
    "    if match is not None:\n",
    "        out = 'Australia/Perth'\n",
    "\n",
    "\n",
    "    pattern = re.compile(r'Stockholm') \n",
    "    match = pattern.match(entry) \n",
    "    if match is not None:\n",
    "        out = 'Europe/Stockholm'\n",
    "\n",
    "\n",
    "    pattern = re.compile(r'Monterrey') \n",
    "    match = pattern.match(entry) \n",
    "    if match is not None:\n",
    "        out = 'America/Mexico_City'\n",
    "\n",
    "\n",
    "    pattern = re.compile(r'Minsk') \n",
    "    match = pattern.match(entry) \n",
    "    if match is not None:\n",
    "        out = 'Europe/Minsk'\n",
    "\n",
    "\n",
    "    pattern = re.compile(r'America/Chicago') \n",
    "    match = pattern.match(entry) \n",
    "    if match is not None:\n",
    "        out = 'US/Central'\n",
    "\n",
    "\n",
    "    pattern = re.compile(r'Vienna') \n",
    "    match = pattern.match(entry) \n",
    "    if match is not None:\n",
    "        out = 'Europe/Vienna'\n",
    "\n",
    "\n",
    "    pattern = re.compile(r'Europe/London') \n",
    "    match = pattern.match(entry) \n",
    "    if match is not None:\n",
    "        out = 'Europe/London'\n",
    "\n",
    "\n",
    "    pattern = re.compile(r'Brisbane') \n",
    "    match = pattern.match(entry) \n",
    "    if match is not None:\n",
    "        out = 'Australia/Brisbane'\n",
    "\n",
    "\n",
    "    pattern = re.compile(r'Kyiv') \n",
    "    match = pattern.match(entry) \n",
    "    if match is not None:\n",
    "        out = 'Europe/Kiev'\n",
    "\n",
    "\n",
    "    pattern = re.compile(r'Seoul') \n",
    "    match = pattern.match(entry) \n",
    "    if match is not None:\n",
    "        out = 'Asia/Seoul'\n",
    "\n",
    "\n",
    "    pattern = re.compile(r'Harare') \n",
    "    match = pattern.match(entry) \n",
    "    if match is not None:\n",
    "        out = 'Africa/Harare'\n",
    "\n",
    "\n",
    "    pattern = re.compile(r'Azores') \n",
    "    match = pattern.match(entry) \n",
    "    if match is not None:\n",
    "        out = 'Atlantic/Azores'\n",
    "\n",
    "\n",
    "    pattern = re.compile(r'Mid-Atlantic') \n",
    "    match = pattern.match(entry) \n",
    "    if match is not None:\n",
    "        out = 'US/Eastern'\n",
    "\n",
    "\n",
    "    pattern = re.compile(r'Bratislava') \n",
    "    match = pattern.match(entry) \n",
    "    if match is not None:\n",
    "        out = 'Europe/Bratislava'\n",
    "\n",
    "\n",
    "    pattern = re.compile(r'Yakutsk') \n",
    "    match = pattern.match(entry) \n",
    "    if match is not None:\n",
    "        out = 'Asia/Yakutsk'\n",
    "\n",
    "\n",
    "    pattern = re.compile(r'Mumbai') \n",
    "    match = pattern.match(entry) \n",
    "    if match is not None:\n",
    "        out = 'Asia/Calcutta'\n",
    "\n",
    "\n",
    "    pattern = re.compile(r'Saskatchewan') \n",
    "    match = pattern.match(entry) \n",
    "    if match is not None:\n",
    "        out = 'Canada/Saskatchewan'\n",
    "\n",
    "\n",
    "    pattern = re.compile(r'Guadalajara') \n",
    "    match = pattern.match(entry) \n",
    "    if match is not None:\n",
    "        out = 'US/Central'\n",
    "\n",
    "\n",
    "    pattern = re.compile(r'Auckland') \n",
    "    match = pattern.match(entry) \n",
    "    if match is not None:\n",
    "        out = 'Pacific/Auckland'\n",
    "\n",
    "\n",
    "    pattern = re.compile(r'Ljubljana') \n",
    "    match = pattern.match(entry) \n",
    "    if match is not None:\n",
    "        out = 'Europe/Ljubljana'\n",
    "\n",
    "\n",
    "    pattern = re.compile(r'Adelaide') \n",
    "    match = pattern.match(entry) \n",
    "    if match is not None:\n",
    "        out = 'Australia/Adelaide'\n",
    "\n",
    "\n",
    "    pattern = re.compile(r'Canberra') \n",
    "    match = pattern.match(entry) \n",
    "    if match is not None:\n",
    "        out = 'Australia/Canberra'\n",
    "\n",
    "\n",
    "    pattern = re.compile(r'Chihuahua') \n",
    "    match = pattern.match(entry) \n",
    "    if match is not None:\n",
    "        out = 'America/Chihuahua'\n",
    "\n",
    "\n",
    "    pattern = re.compile(r'Taipei') \n",
    "    match = pattern.match(entry) \n",
    "    if match is not None:\n",
    "        out = 'Asia/Taipei'\n",
    "\n",
    "\n",
    "    pattern = re.compile(r'Budapest') \n",
    "    match = pattern.match(entry) \n",
    "    if match is not None:\n",
    "        out = 'Europe/Budapest'\n",
    "\n",
    "\n",
    "    pattern = re.compile(r'Kathmandu') \n",
    "    match = pattern.match(entry) \n",
    "    if match is not None:\n",
    "        out = 'Asia/Kathmandu'\n",
    "\n",
    "\n",
    "    pattern = re.compile(r'Islamabad') \n",
    "    match = pattern.match(entry) \n",
    "    if match is not None:\n",
    "        out = 'Asia/Karachi'\n",
    "\n",
    "\n",
    "    pattern = re.compile(r'America/New_York') \n",
    "    match = pattern.match(entry) \n",
    "    if match is not None:\n",
    "        out = 'US/Eastern'\n",
    "\n",
    "\n",
    "    pattern = re.compile(r'Prague') \n",
    "    match = pattern.match(entry) \n",
    "    if match is not None:\n",
    "        out = 'Europe/Prague'\n",
    "\n",
    "\n",
    "    pattern = re.compile(r'America/Sao_Paulo') \n",
    "    match = pattern.match(entry) \n",
    "    if match is not None:\n",
    "        out = 'America/Sao_Paulo'\n",
    "\n",
    "\n",
    "    pattern = re.compile(r'Almaty') \n",
    "    match = pattern.match(entry) \n",
    "    if match is not None:\n",
    "        out = 'Asia/Almaty'\n",
    "\n",
    "\n",
    "    pattern = re.compile(r'Cairo') \n",
    "    match = pattern.match(entry) \n",
    "    if match is not None:\n",
    "        out = 'Africa/Cairo'\n",
    "\n",
    "\n",
    "    pattern = re.compile(r'Pacific/Guam') \n",
    "    match = pattern.match(entry) \n",
    "    if match is not None:\n",
    "        out = 'Pacific/Guam'\n",
    "\n",
    "\n",
    "    pattern = re.compile(r'New Delhi') \n",
    "    match = pattern.match(entry) \n",
    "    if match is not None:\n",
    "        out = 'Asia/Calcutta'\n",
    "\n",
    "\n",
    "    pattern = re.compile(r'Astana') \n",
    "    match = pattern.match(entry) \n",
    "    if match is not None:\n",
    "        out = 'Asia/Almaty'\n",
    "\n",
    "\n",
    "    pattern = re.compile(r'Riga') \n",
    "    match = pattern.match(entry) \n",
    "    if match is not None:\n",
    "        out = 'Europe/Riga'\n",
    "\n",
    "\n",
    "    \n",
    "    return(out)\n",
    "    "
   ]
  },
  {
   "cell_type": "code",
   "execution_count": 3,
   "metadata": {},
   "outputs": [],
   "source": [
    "# read in the ras file and convert it to a pandas csv, then close this file\n",
    "raw_seq_train = open('/home/dwooten/Documents/insight/rl/data/songs/splits/sequence/train_SEQ.csv','r')"
   ]
  },
  {
   "cell_type": "code",
   "execution_count": 4,
   "metadata": {},
   "outputs": [],
   "source": [
    "seq_train = pd.read_csv(raw_seq_train, sep=',', header=0, index_col=False)"
   ]
  },
  {
   "cell_type": "code",
   "execution_count": 5,
   "metadata": {},
   "outputs": [],
   "source": [
    "raw_seq_train.close()"
   ]
  },
  {
   "cell_type": "code",
   "execution_count": 6,
   "metadata": {},
   "outputs": [
    {
     "data": {
      "text/html": [
       "<div>\n",
       "<style scoped>\n",
       "    .dataframe tbody tr th:only-of-type {\n",
       "        vertical-align: middle;\n",
       "    }\n",
       "\n",
       "    .dataframe tbody tr th {\n",
       "        vertical-align: top;\n",
       "    }\n",
       "\n",
       "    .dataframe thead th {\n",
       "        text-align: right;\n",
       "    }\n",
       "</style>\n",
       "<table border=\"1\" class=\"dataframe\">\n",
       "  <thead>\n",
       "    <tr style=\"text-align: right;\">\n",
       "      <th></th>\n",
       "      <th>user_id</th>\n",
       "      <th>track_id</th>\n",
       "      <th>hashtag</th>\n",
       "      <th>created_at</th>\n",
       "      <th>score</th>\n",
       "      <th>lang</th>\n",
       "      <th>tweet_lang</th>\n",
       "      <th>time_zone</th>\n",
       "      <th>instrumentalness</th>\n",
       "      <th>liveness</th>\n",
       "      <th>speechiness</th>\n",
       "      <th>danceability</th>\n",
       "      <th>valence</th>\n",
       "      <th>loudness</th>\n",
       "      <th>tempo</th>\n",
       "      <th>acousticness</th>\n",
       "      <th>energy</th>\n",
       "      <th>mode</th>\n",
       "      <th>key</th>\n",
       "      <th>rating</th>\n",
       "      <th>current_track</th>\n",
       "      <th>previous_track</th>\n",
       "    </tr>\n",
       "  </thead>\n",
       "  <tbody>\n",
       "    <tr>\n",
       "      <td>116346</td>\n",
       "      <td>308580291</td>\n",
       "      <td>fda3123438700a9cea4016080873c48d</td>\n",
       "      <td>np</td>\n",
       "      <td>2014-07-02 19:50:26</td>\n",
       "      <td>0.675000</td>\n",
       "      <td>nl</td>\n",
       "      <td>en</td>\n",
       "      <td>Amsterdam</td>\n",
       "      <td>0.000005</td>\n",
       "      <td>0.1170</td>\n",
       "      <td>0.0294</td>\n",
       "      <td>0.731</td>\n",
       "      <td>0.9640</td>\n",
       "      <td>-8.045</td>\n",
       "      <td>129.062</td>\n",
       "      <td>0.447000</td>\n",
       "      <td>0.683</td>\n",
       "      <td>1.0</td>\n",
       "      <td>0.0</td>\n",
       "      <td>1</td>\n",
       "      <td>fda3123438700a9cea4016080873c48d</td>\n",
       "      <td>8eadf0bd2098c54cd7a14d5a95588648</td>\n",
       "    </tr>\n",
       "    <tr>\n",
       "      <td>189798</td>\n",
       "      <td>561807620</td>\n",
       "      <td>261eb68af26ab696e973a4760f6c1eae</td>\n",
       "      <td>radionomy</td>\n",
       "      <td>2014-07-04 01:26:26</td>\n",
       "      <td>0.375000</td>\n",
       "      <td>nl</td>\n",
       "      <td>en</td>\n",
       "      <td>NaN</td>\n",
       "      <td>0.846000</td>\n",
       "      <td>0.1010</td>\n",
       "      <td>0.0509</td>\n",
       "      <td>0.489</td>\n",
       "      <td>0.9160</td>\n",
       "      <td>-12.682</td>\n",
       "      <td>184.664</td>\n",
       "      <td>0.315000</td>\n",
       "      <td>0.491</td>\n",
       "      <td>1.0</td>\n",
       "      <td>0.0</td>\n",
       "      <td>1</td>\n",
       "      <td>261eb68af26ab696e973a4760f6c1eae</td>\n",
       "      <td>da3452f4fe1e87ced8e09f3db9a68fc3</td>\n",
       "    </tr>\n",
       "    <tr>\n",
       "      <td>68843</td>\n",
       "      <td>81496937</td>\n",
       "      <td>9c79b821c898542d7a96e71715d6d4d5</td>\n",
       "      <td>postpunk</td>\n",
       "      <td>2014-08-15 15:11:15</td>\n",
       "      <td>0.000000</td>\n",
       "      <td>en</td>\n",
       "      <td>en</td>\n",
       "      <td>Central Time (US &amp; Canada)</td>\n",
       "      <td>0.585000</td>\n",
       "      <td>0.0835</td>\n",
       "      <td>0.0297</td>\n",
       "      <td>0.495</td>\n",
       "      <td>0.1020</td>\n",
       "      <td>-5.619</td>\n",
       "      <td>150.010</td>\n",
       "      <td>0.041600</td>\n",
       "      <td>0.633</td>\n",
       "      <td>1.0</td>\n",
       "      <td>9.0</td>\n",
       "      <td>1</td>\n",
       "      <td>9c79b821c898542d7a96e71715d6d4d5</td>\n",
       "      <td>9c79b821c898542d7a96e71715d6d4d5</td>\n",
       "    </tr>\n",
       "    <tr>\n",
       "      <td>3805</td>\n",
       "      <td>823214346</td>\n",
       "      <td>9b1736a0edbc895b8376f56c59fda495</td>\n",
       "      <td>kiss92</td>\n",
       "      <td>2014-03-04 14:32:54</td>\n",
       "      <td>0.800000</td>\n",
       "      <td>en</td>\n",
       "      <td>en</td>\n",
       "      <td>Beijing</td>\n",
       "      <td>0.000000</td>\n",
       "      <td>0.0838</td>\n",
       "      <td>0.0278</td>\n",
       "      <td>0.713</td>\n",
       "      <td>0.6750</td>\n",
       "      <td>-3.806</td>\n",
       "      <td>126.999</td>\n",
       "      <td>0.002330</td>\n",
       "      <td>0.718</td>\n",
       "      <td>1.0</td>\n",
       "      <td>2.0</td>\n",
       "      <td>1</td>\n",
       "      <td>9b1736a0edbc895b8376f56c59fda495</td>\n",
       "      <td>a053162b9ed156cbcccc1116eeb10468</td>\n",
       "    </tr>\n",
       "    <tr>\n",
       "      <td>177728</td>\n",
       "      <td>2205686924</td>\n",
       "      <td>9dca87addf9d5fded7e694ca3c26161b</td>\n",
       "      <td>np</td>\n",
       "      <td>2014-05-10 09:32:46</td>\n",
       "      <td>0.675000</td>\n",
       "      <td>en</td>\n",
       "      <td>en</td>\n",
       "      <td>Eastern Time (US &amp; Canada)</td>\n",
       "      <td>0.004870</td>\n",
       "      <td>0.1030</td>\n",
       "      <td>0.0299</td>\n",
       "      <td>0.678</td>\n",
       "      <td>0.8280</td>\n",
       "      <td>-2.729</td>\n",
       "      <td>131.068</td>\n",
       "      <td>0.250000</td>\n",
       "      <td>0.931</td>\n",
       "      <td>1.0</td>\n",
       "      <td>0.0</td>\n",
       "      <td>1</td>\n",
       "      <td>9dca87addf9d5fded7e694ca3c26161b</td>\n",
       "      <td>d49085cd1ac12840376275df9767c342</td>\n",
       "    </tr>\n",
       "    <tr>\n",
       "      <td>172749</td>\n",
       "      <td>1617892824</td>\n",
       "      <td>5cbf25f0f194b8710a1ac9844a832d24</td>\n",
       "      <td>np</td>\n",
       "      <td>2014-05-24 07:28:00</td>\n",
       "      <td>0.675000</td>\n",
       "      <td>en</td>\n",
       "      <td>en</td>\n",
       "      <td>Berlin</td>\n",
       "      <td>0.000000</td>\n",
       "      <td>0.1180</td>\n",
       "      <td>0.1560</td>\n",
       "      <td>0.666</td>\n",
       "      <td>0.4150</td>\n",
       "      <td>-4.922</td>\n",
       "      <td>169.946</td>\n",
       "      <td>0.136000</td>\n",
       "      <td>0.627</td>\n",
       "      <td>1.0</td>\n",
       "      <td>2.0</td>\n",
       "      <td>1</td>\n",
       "      <td>5cbf25f0f194b8710a1ac9844a832d24</td>\n",
       "      <td>02f5cf0eb2798bc9a1d3fc3c2c83267b</td>\n",
       "    </tr>\n",
       "    <tr>\n",
       "      <td>152148</td>\n",
       "      <td>811851805</td>\n",
       "      <td>6c9d561c953a9f2d7c1eb99cf2d0c893</td>\n",
       "      <td>punk</td>\n",
       "      <td>2014-08-18 13:00:39</td>\n",
       "      <td>0.000000</td>\n",
       "      <td>en</td>\n",
       "      <td>en</td>\n",
       "      <td>Edinburgh</td>\n",
       "      <td>0.177000</td>\n",
       "      <td>0.4530</td>\n",
       "      <td>0.2240</td>\n",
       "      <td>0.215</td>\n",
       "      <td>0.0476</td>\n",
       "      <td>-7.631</td>\n",
       "      <td>161.019</td>\n",
       "      <td>0.045300</td>\n",
       "      <td>0.976</td>\n",
       "      <td>1.0</td>\n",
       "      <td>7.0</td>\n",
       "      <td>1</td>\n",
       "      <td>6c9d561c953a9f2d7c1eb99cf2d0c893</td>\n",
       "      <td>8a5c6d1b293c8aa75438e815ab3e4db1</td>\n",
       "    </tr>\n",
       "    <tr>\n",
       "      <td>57354</td>\n",
       "      <td>81496937</td>\n",
       "      <td>0e3f320c2e70071131965bb1e7e5ce73</td>\n",
       "      <td>postpunk</td>\n",
       "      <td>2014-06-05 15:07:36</td>\n",
       "      <td>0.000000</td>\n",
       "      <td>en</td>\n",
       "      <td>en</td>\n",
       "      <td>Central Time (US &amp; Canada)</td>\n",
       "      <td>0.877000</td>\n",
       "      <td>0.1860</td>\n",
       "      <td>0.0631</td>\n",
       "      <td>0.515</td>\n",
       "      <td>0.2290</td>\n",
       "      <td>-10.025</td>\n",
       "      <td>147.999</td>\n",
       "      <td>0.388000</td>\n",
       "      <td>0.855</td>\n",
       "      <td>1.0</td>\n",
       "      <td>10.0</td>\n",
       "      <td>1</td>\n",
       "      <td>0e3f320c2e70071131965bb1e7e5ce73</td>\n",
       "      <td>0e3f320c2e70071131965bb1e7e5ce73</td>\n",
       "    </tr>\n",
       "    <tr>\n",
       "      <td>168946</td>\n",
       "      <td>126040912</td>\n",
       "      <td>be1bba75e2767e6c06140f417473bbe4</td>\n",
       "      <td>craveradio</td>\n",
       "      <td>2014-07-21 07:36:08</td>\n",
       "      <td>0.300000</td>\n",
       "      <td>en</td>\n",
       "      <td>en</td>\n",
       "      <td>Eastern Time (US &amp; Canada)</td>\n",
       "      <td>0.875000</td>\n",
       "      <td>0.3000</td>\n",
       "      <td>0.0771</td>\n",
       "      <td>0.799</td>\n",
       "      <td>0.7700</td>\n",
       "      <td>-6.845</td>\n",
       "      <td>128.006</td>\n",
       "      <td>0.014400</td>\n",
       "      <td>0.553</td>\n",
       "      <td>1.0</td>\n",
       "      <td>0.0</td>\n",
       "      <td>1</td>\n",
       "      <td>be1bba75e2767e6c06140f417473bbe4</td>\n",
       "      <td>e24383c5bfb6150ca063b7f1941cd1e8</td>\n",
       "    </tr>\n",
       "    <tr>\n",
       "      <td>107956</td>\n",
       "      <td>268402538</td>\n",
       "      <td>a40d933314935c077d35ef5a6ddd2978</td>\n",
       "      <td>doommetal</td>\n",
       "      <td>2014-08-19 21:32:03</td>\n",
       "      <td>0.221875</td>\n",
       "      <td>en</td>\n",
       "      <td>en</td>\n",
       "      <td>Pacific Time (US &amp; Canada)</td>\n",
       "      <td>0.813000</td>\n",
       "      <td>0.1450</td>\n",
       "      <td>0.0589</td>\n",
       "      <td>0.240</td>\n",
       "      <td>0.1420</td>\n",
       "      <td>-7.533</td>\n",
       "      <td>136.165</td>\n",
       "      <td>0.000075</td>\n",
       "      <td>0.747</td>\n",
       "      <td>1.0</td>\n",
       "      <td>9.0</td>\n",
       "      <td>1</td>\n",
       "      <td>a40d933314935c077d35ef5a6ddd2978</td>\n",
       "      <td>a40d933314935c077d35ef5a6ddd2978</td>\n",
       "    </tr>\n",
       "  </tbody>\n",
       "</table>\n",
       "</div>"
      ],
      "text/plain": [
       "           user_id                          track_id     hashtag  \\\n",
       "116346   308580291  fda3123438700a9cea4016080873c48d          np   \n",
       "189798   561807620  261eb68af26ab696e973a4760f6c1eae   radionomy   \n",
       "68843     81496937  9c79b821c898542d7a96e71715d6d4d5    postpunk   \n",
       "3805     823214346  9b1736a0edbc895b8376f56c59fda495      kiss92   \n",
       "177728  2205686924  9dca87addf9d5fded7e694ca3c26161b          np   \n",
       "172749  1617892824  5cbf25f0f194b8710a1ac9844a832d24          np   \n",
       "152148   811851805  6c9d561c953a9f2d7c1eb99cf2d0c893        punk   \n",
       "57354     81496937  0e3f320c2e70071131965bb1e7e5ce73    postpunk   \n",
       "168946   126040912  be1bba75e2767e6c06140f417473bbe4  craveradio   \n",
       "107956   268402538  a40d933314935c077d35ef5a6ddd2978   doommetal   \n",
       "\n",
       "                 created_at     score lang tweet_lang  \\\n",
       "116346  2014-07-02 19:50:26  0.675000   nl         en   \n",
       "189798  2014-07-04 01:26:26  0.375000   nl         en   \n",
       "68843   2014-08-15 15:11:15  0.000000   en         en   \n",
       "3805    2014-03-04 14:32:54  0.800000   en         en   \n",
       "177728  2014-05-10 09:32:46  0.675000   en         en   \n",
       "172749  2014-05-24 07:28:00  0.675000   en         en   \n",
       "152148  2014-08-18 13:00:39  0.000000   en         en   \n",
       "57354   2014-06-05 15:07:36  0.000000   en         en   \n",
       "168946  2014-07-21 07:36:08  0.300000   en         en   \n",
       "107956  2014-08-19 21:32:03  0.221875   en         en   \n",
       "\n",
       "                         time_zone  instrumentalness  liveness  speechiness  \\\n",
       "116346                   Amsterdam          0.000005    0.1170       0.0294   \n",
       "189798                         NaN          0.846000    0.1010       0.0509   \n",
       "68843   Central Time (US & Canada)          0.585000    0.0835       0.0297   \n",
       "3805                       Beijing          0.000000    0.0838       0.0278   \n",
       "177728  Eastern Time (US & Canada)          0.004870    0.1030       0.0299   \n",
       "172749                      Berlin          0.000000    0.1180       0.1560   \n",
       "152148                   Edinburgh          0.177000    0.4530       0.2240   \n",
       "57354   Central Time (US & Canada)          0.877000    0.1860       0.0631   \n",
       "168946  Eastern Time (US & Canada)          0.875000    0.3000       0.0771   \n",
       "107956  Pacific Time (US & Canada)          0.813000    0.1450       0.0589   \n",
       "\n",
       "        danceability  valence  loudness    tempo  acousticness  energy  mode  \\\n",
       "116346         0.731   0.9640    -8.045  129.062      0.447000   0.683   1.0   \n",
       "189798         0.489   0.9160   -12.682  184.664      0.315000   0.491   1.0   \n",
       "68843          0.495   0.1020    -5.619  150.010      0.041600   0.633   1.0   \n",
       "3805           0.713   0.6750    -3.806  126.999      0.002330   0.718   1.0   \n",
       "177728         0.678   0.8280    -2.729  131.068      0.250000   0.931   1.0   \n",
       "172749         0.666   0.4150    -4.922  169.946      0.136000   0.627   1.0   \n",
       "152148         0.215   0.0476    -7.631  161.019      0.045300   0.976   1.0   \n",
       "57354          0.515   0.2290   -10.025  147.999      0.388000   0.855   1.0   \n",
       "168946         0.799   0.7700    -6.845  128.006      0.014400   0.553   1.0   \n",
       "107956         0.240   0.1420    -7.533  136.165      0.000075   0.747   1.0   \n",
       "\n",
       "         key  rating                     current_track  \\\n",
       "116346   0.0       1  fda3123438700a9cea4016080873c48d   \n",
       "189798   0.0       1  261eb68af26ab696e973a4760f6c1eae   \n",
       "68843    9.0       1  9c79b821c898542d7a96e71715d6d4d5   \n",
       "3805     2.0       1  9b1736a0edbc895b8376f56c59fda495   \n",
       "177728   0.0       1  9dca87addf9d5fded7e694ca3c26161b   \n",
       "172749   2.0       1  5cbf25f0f194b8710a1ac9844a832d24   \n",
       "152148   7.0       1  6c9d561c953a9f2d7c1eb99cf2d0c893   \n",
       "57354   10.0       1  0e3f320c2e70071131965bb1e7e5ce73   \n",
       "168946   0.0       1  be1bba75e2767e6c06140f417473bbe4   \n",
       "107956   9.0       1  a40d933314935c077d35ef5a6ddd2978   \n",
       "\n",
       "                          previous_track  \n",
       "116346  8eadf0bd2098c54cd7a14d5a95588648  \n",
       "189798  da3452f4fe1e87ced8e09f3db9a68fc3  \n",
       "68843   9c79b821c898542d7a96e71715d6d4d5  \n",
       "3805    a053162b9ed156cbcccc1116eeb10468  \n",
       "177728  d49085cd1ac12840376275df9767c342  \n",
       "172749  02f5cf0eb2798bc9a1d3fc3c2c83267b  \n",
       "152148  8a5c6d1b293c8aa75438e815ab3e4db1  \n",
       "57354   0e3f320c2e70071131965bb1e7e5ce73  \n",
       "168946  e24383c5bfb6150ca063b7f1941cd1e8  \n",
       "107956  a40d933314935c077d35ef5a6ddd2978  "
      ]
     },
     "execution_count": 6,
     "metadata": {},
     "output_type": "execute_result"
    }
   ],
   "source": [
    "# Let's start looking around!\n",
    "seq_train.sample(10)"
   ]
  },
  {
   "cell_type": "markdown",
   "metadata": {},
   "source": [
    "It's got the right number of columns and looks well formatted, it should be, this was a data set put out for benchmarking! Let's take a quick tour of the data fields"
   ]
  },
  {
   "cell_type": "markdown",
   "metadata": {},
   "source": [
    "Here, let's engineer some basic time features"
   ]
  },
  {
   "cell_type": "code",
   "execution_count": 7,
   "metadata": {},
   "outputs": [],
   "source": [
    "seq_train.user_id = seq_train.user_id.astype('category')"
   ]
  },
  {
   "cell_type": "code",
   "execution_count": 8,
   "metadata": {},
   "outputs": [
    {
     "data": {
      "text/plain": [
       "count        253030\n",
       "unique         1830\n",
       "top       823214346\n",
       "freq          41378\n",
       "Name: user_id, dtype: int64"
      ]
     },
     "execution_count": 8,
     "metadata": {},
     "output_type": "execute_result"
    }
   ],
   "source": [
    "seq_train.user_id.describe()"
   ]
  },
  {
   "cell_type": "code",
   "execution_count": 9,
   "metadata": {},
   "outputs": [],
   "source": [
    "seq_train['full_date']=pd.to_datetime(seq_train.created_at)"
   ]
  },
  {
   "cell_type": "code",
   "execution_count": 10,
   "metadata": {},
   "outputs": [
    {
     "data": {
      "text/plain": [
       "count                  253030\n",
       "unique                 211537\n",
       "top       2014-07-24 20:15:23\n",
       "freq                        9\n",
       "first     2014-01-01 05:54:21\n",
       "last      2014-09-30 23:57:44\n",
       "Name: full_date, dtype: object"
      ]
     },
     "execution_count": 10,
     "metadata": {},
     "output_type": "execute_result"
    }
   ],
   "source": [
    "seq_train.full_date.describe()"
   ]
  },
  {
   "cell_type": "code",
   "execution_count": 11,
   "metadata": {},
   "outputs": [
    {
     "data": {
      "text/plain": [
       "count                         232003\n",
       "unique                            97\n",
       "top       Central Time (US & Canada)\n",
       "freq                           50061\n",
       "Name: time_zone, dtype: object"
      ]
     },
     "execution_count": 11,
     "metadata": {},
     "output_type": "execute_result"
    }
   ],
   "source": [
    "seq_train.time_zone.describe()"
   ]
  },
  {
   "cell_type": "code",
   "execution_count": 12,
   "metadata": {},
   "outputs": [],
   "source": [
    "seq_train['zoned'] = seq_train.time_zone.apply(lambda x: convert_to_pyz(x))"
   ]
  },
  {
   "cell_type": "code",
   "execution_count": 13,
   "metadata": {},
   "outputs": [
    {
     "data": {
      "text/plain": [
       "count         253030\n",
       "unique            83\n",
       "top       US/Central\n",
       "freq           50097\n",
       "Name: zoned, dtype: object"
      ]
     },
     "execution_count": 13,
     "metadata": {},
     "output_type": "execute_result"
    }
   ],
   "source": [
    "seq_train.zoned.describe()"
   ]
  },
  {
   "cell_type": "code",
   "execution_count": 14,
   "metadata": {
    "scrolled": true
   },
   "outputs": [
    {
     "data": {
      "text/plain": [
       "10564        Asia/Shanghai\n",
       "52465           US/Central\n",
       "77908     Europe/Amsterdam\n",
       "73497           US/Central\n",
       "168269          US/Eastern\n",
       "Name: zoned, dtype: object"
      ]
     },
     "execution_count": 14,
     "metadata": {},
     "output_type": "execute_result"
    }
   ],
   "source": [
    "seq_train.zoned.sample(5)"
   ]
  },
  {
   "cell_type": "code",
   "execution_count": 15,
   "metadata": {},
   "outputs": [],
   "source": [
    "seq_train['zone_objects'] = seq_train.zoned.apply(lambda x: pytz.timezone(x))"
   ]
  },
  {
   "cell_type": "code",
   "execution_count": 16,
   "metadata": {},
   "outputs": [],
   "source": [
    "seq_train['aware'] = seq_train.apply(lambda row: row.zone_objects.localize(row.full_date) , axis = 1)"
   ]
  },
  {
   "cell_type": "code",
   "execution_count": 17,
   "metadata": {},
   "outputs": [],
   "source": [
    "seq_train['aware'] = seq_train.aware.apply(lambda x: x.astimezone('utc'))"
   ]
  },
  {
   "cell_type": "code",
   "execution_count": 18,
   "metadata": {},
   "outputs": [],
   "source": [
    "seq_train['day_w']=seq_train.aware.apply(lambda x: x.strftime('%w'))"
   ]
  },
  {
   "cell_type": "code",
   "execution_count": 19,
   "metadata": {},
   "outputs": [
    {
     "data": {
      "text/plain": [
       "count     253030\n",
       "unique         7\n",
       "top            1\n",
       "freq       37008\n",
       "Name: day_w, dtype: object"
      ]
     },
     "execution_count": 19,
     "metadata": {},
     "output_type": "execute_result"
    }
   ],
   "source": [
    "seq_train.day_w.describe()"
   ]
  },
  {
   "cell_type": "code",
   "execution_count": 20,
   "metadata": {},
   "outputs": [
    {
     "data": {
      "text/plain": [
       "<matplotlib.axes._subplots.AxesSubplot at 0x7fb28dce1dd0>"
      ]
     },
     "execution_count": 20,
     "metadata": {},
     "output_type": "execute_result"
    },
    {
     "data": {
      "image/png": "[encoded data removed]",
      "text/plain": [
       "<Figure size 432x288 with 1 Axes>"
      ]
     },
     "metadata": {
      "needs_background": "light"
     },
     "output_type": "display_data"
    }
   ],
   "source": [
    "seq_train.day_w.hist(bins=7)"
   ]
  },
  {
   "cell_type": "markdown",
   "metadata": {},
   "source": [
    "This is surprising, evenly distributed data across the week - this must be a currated result"
   ]
  },
  {
   "cell_type": "code",
   "execution_count": 21,
   "metadata": {},
   "outputs": [
    {
     "data": {
      "text/plain": [
       "22151     5\n",
       "113842    3\n",
       "15016     0\n",
       "39804     1\n",
       "215443    3\n",
       "Name: day_w, dtype: object"
      ]
     },
     "execution_count": 21,
     "metadata": {},
     "output_type": "execute_result"
    }
   ],
   "source": [
    "seq_train.day_w.sample(5)"
   ]
  },
  {
   "cell_type": "code",
   "execution_count": 22,
   "metadata": {},
   "outputs": [],
   "source": [
    "seq_train['day_m']=seq_train.aware.apply(lambda x: x.strftime('%d'))"
   ]
  },
  {
   "cell_type": "code",
   "execution_count": 23,
   "metadata": {},
   "outputs": [
    {
     "data": {
      "text/plain": [
       "<matplotlib.axes._subplots.AxesSubplot at 0x7fb28d383f90>"
      ]
     },
     "execution_count": 23,
     "metadata": {},
     "output_type": "execute_result"
    },
    {
     "data": {
      "image/png": "[encoded data removed]",
      "text/plain": [
       "<Figure size 432x288 with 1 Axes>"
      ]
     },
     "metadata": {
      "needs_background": "light"
     },
     "output_type": "display_data"
    }
   ],
   "source": [
    "seq_train.day_m.hist(bins=30)"
   ]
  },
  {
   "cell_type": "code",
   "execution_count": 24,
   "metadata": {},
   "outputs": [],
   "source": [
    "seq_train['hour_d']=seq_train.aware.apply(lambda x: x.strftime('%H'))"
   ]
  },
  {
   "cell_type": "code",
   "execution_count": 25,
   "metadata": {
    "scrolled": true
   },
   "outputs": [
    {
     "data": {
      "text/plain": [
       "<matplotlib.axes._subplots.AxesSubplot at 0x7fb28a4c7c10>"
      ]
     },
     "execution_count": 25,
     "metadata": {},
     "output_type": "execute_result"
    },
    {
     "data": {
      "image/png": "[encoded data removed]",
      "text/plain": [
       "<Figure size 432x288 with 1 Axes>"
      ]
     },
     "metadata": {
      "needs_background": "light"
     },
     "output_type": "display_data"
    }
   ],
   "source": [
    "seq_train.hour_d.hist(bins=24)"
   ]
  },
  {
   "cell_type": "markdown",
   "metadata": {},
   "source": [
    "Absolutely a currated data set, "
   ]
  },
  {
   "cell_type": "code",
   "execution_count": 26,
   "metadata": {},
   "outputs": [
    {
     "data": {
      "text/plain": [
       "count    253030.000000\n",
       "mean          0.512384\n",
       "std           0.305385\n",
       "min           0.000000\n",
       "25%           0.200000\n",
       "50%           0.675000\n",
       "75%           0.766667\n",
       "max           1.000000\n",
       "Name: score, dtype: float64"
      ]
     },
     "execution_count": 26,
     "metadata": {},
     "output_type": "execute_result"
    }
   ],
   "source": [
    "seq_train.score.describe()"
   ]
  },
  {
   "cell_type": "code",
   "execution_count": 27,
   "metadata": {},
   "outputs": [
    {
     "data": {
      "text/plain": [
       "'cc1a46ee0446538ecf6b65db01c30cd8'"
      ]
     },
     "execution_count": 27,
     "metadata": {},
     "output_type": "execute_result"
    }
   ],
   "source": [
    "seq_train.track_id.unique()[1]"
   ]
  },
  {
   "cell_type": "markdown",
   "metadata": {},
   "source": [
    "How many NaNs do we have?"
   ]
  },
  {
   "cell_type": "code",
   "execution_count": 28,
   "metadata": {},
   "outputs": [],
   "source": [
    "seq_train = seq_train.drop(axis=1,columns=['time_zone', 'lang', 'full_date', 'zone_objects'])"
   ]
  },
  {
   "cell_type": "code",
   "execution_count": 29,
   "metadata": {},
   "outputs": [],
   "source": [
    "seq_train['null'] = seq_train.liveness.apply(lambda x: x)"
   ]
  },
  {
   "cell_type": "code",
   "execution_count": 30,
   "metadata": {},
   "outputs": [],
   "source": [
    "seq_train['null'] = seq_train.apply(lambda x: sum(x.isnull().values.astype('int')), axis = 1)"
   ]
  },
  {
   "cell_type": "code",
   "execution_count": 31,
   "metadata": {},
   "outputs": [
    {
     "data": {
      "text/plain": [
       "count    253030.000000\n",
       "mean          0.000209\n",
       "std           0.044851\n",
       "min           0.000000\n",
       "25%           0.000000\n",
       "50%           0.000000\n",
       "75%           0.000000\n",
       "max          10.000000\n",
       "Name: null, dtype: float64"
      ]
     },
     "execution_count": 31,
     "metadata": {},
     "output_type": "execute_result"
    }
   ],
   "source": [
    "seq_train.null.describe()"
   ]
  },
  {
   "cell_type": "code",
   "execution_count": 32,
   "metadata": {},
   "outputs": [],
   "source": [
    "seq_train.null = seq_train.null.apply(lambda x: 1 if x > 0 else 0)"
   ]
  },
  {
   "cell_type": "code",
   "execution_count": 33,
   "metadata": {},
   "outputs": [
    {
     "data": {
      "text/plain": [
       "6"
      ]
     },
     "execution_count": 33,
     "metadata": {},
     "output_type": "execute_result"
    }
   ],
   "source": [
    "seq_train.null.sum()"
   ]
  },
  {
   "cell_type": "markdown",
   "metadata": {},
   "source": [
    "We've only got 6 rows with bad data, let's see what's going on"
   ]
  },
  {
   "cell_type": "markdown",
   "metadata": {},
   "source": [
    "Alrighty, so one track from each of these users doesnt have the Spotify API data"
   ]
  },
  {
   "cell_type": "code",
   "execution_count": 34,
   "metadata": {},
   "outputs": [],
   "source": [
    "seq_train = seq_train.drop([185804, 232453, 239749, 250171, 252711, 252856])"
   ]
  },
  {
   "cell_type": "code",
   "execution_count": 35,
   "metadata": {},
   "outputs": [],
   "source": [
    "seq_train = seq_train.drop(axis=1,columns=['null'])"
   ]
  },
  {
   "cell_type": "code",
   "execution_count": 37,
   "metadata": {},
   "outputs": [
    {
     "data": {
      "text/plain": [
       "20629"
      ]
     },
     "execution_count": 37,
     "metadata": {},
     "output_type": "execute_result"
    }
   ],
   "source": [
    "len(seq_train.track_id.unique())"
   ]
  },
  {
   "cell_type": "raw",
   "metadata": {},
   "source": [
    "For later factorization we will need to one hot encode the individual songs"
   ]
  },
  {
   "cell_type": "code",
   "execution_count": null,
   "metadata": {},
   "outputs": [],
   "source": [
    "seq_train = pd.concat([seq_train,pd.get_dummies(seq_train['track_id'])],axis=1)"
   ]
  },
  {
   "cell_type": "code",
   "execution_count": 40,
   "metadata": {},
   "outputs": [],
   "source": [
    "user = random.choice(seq_train.user_id.unique())"
   ]
  },
  {
   "cell_type": "code",
   "execution_count": 41,
   "metadata": {},
   "outputs": [
    {
     "name": "stdout",
     "output_type": "stream",
     "text": [
      "969888320\n"
     ]
    }
   ],
   "source": [
    "print(user)"
   ]
  },
  {
   "cell_type": "code",
   "execution_count": null,
   "metadata": {},
   "outputs": [],
   "source": []
  },
  {
   "cell_type": "code",
   "execution_count": 94,
   "metadata": {},
   "outputs": [],
   "source": [
    "#seq_train.to_pickle('/home/dwooten/Documents/insight/rl/data/songs/clean')"
   ]
  },
  {
   "cell_type": "code",
   "execution_count": 95,
   "metadata": {},
   "outputs": [],
   "source": [
    "#test = pd.read_pickle('/home/dwooten/Documents/insight/rl/data/songs/clean')"
   ]
  },
  {
   "cell_type": "code",
   "execution_count": 96,
   "metadata": {},
   "outputs": [
    {
     "data": {
      "text/html": [
       "<div>\n",
       "<style scoped>\n",
       "    .dataframe tbody tr th:only-of-type {\n",
       "        vertical-align: middle;\n",
       "    }\n",
       "\n",
       "    .dataframe tbody tr th {\n",
       "        vertical-align: top;\n",
       "    }\n",
       "\n",
       "    .dataframe thead th {\n",
       "        text-align: right;\n",
       "    }\n",
       "</style>\n",
       "<table border=\"1\" class=\"dataframe\">\n",
       "  <thead>\n",
       "    <tr style=\"text-align: right;\">\n",
       "      <th></th>\n",
       "      <th>user_id</th>\n",
       "      <th>track_id</th>\n",
       "      <th>hashtag</th>\n",
       "      <th>created_at</th>\n",
       "      <th>score</th>\n",
       "      <th>tweet_lang</th>\n",
       "      <th>instrumentalness</th>\n",
       "      <th>liveness</th>\n",
       "      <th>speechiness</th>\n",
       "      <th>danceability</th>\n",
       "      <th>valence</th>\n",
       "      <th>loudness</th>\n",
       "      <th>tempo</th>\n",
       "      <th>acousticness</th>\n",
       "      <th>energy</th>\n",
       "      <th>mode</th>\n",
       "      <th>key</th>\n",
       "      <th>rating</th>\n",
       "      <th>current_track</th>\n",
       "      <th>previous_track</th>\n",
       "      <th>zoned</th>\n",
       "      <th>aware</th>\n",
       "      <th>day_w</th>\n",
       "      <th>day_m</th>\n",
       "      <th>hour_d</th>\n",
       "    </tr>\n",
       "  </thead>\n",
       "  <tbody>\n",
       "    <tr>\n",
       "      <td>92799</td>\n",
       "      <td>1083272065</td>\n",
       "      <td>c1c5e61193d08debdb2e14d7f00dcc49</td>\n",
       "      <td>urbantraxxradio</td>\n",
       "      <td>2014-09-15 13:18:57</td>\n",
       "      <td>0.700000</td>\n",
       "      <td>en</td>\n",
       "      <td>0.000</td>\n",
       "      <td>0.3660</td>\n",
       "      <td>0.0455</td>\n",
       "      <td>0.772</td>\n",
       "      <td>0.8540</td>\n",
       "      <td>-6.846</td>\n",
       "      <td>136.676</td>\n",
       "      <td>0.0183</td>\n",
       "      <td>0.670</td>\n",
       "      <td>1.0</td>\n",
       "      <td>2.0</td>\n",
       "      <td>1</td>\n",
       "      <td>c1c5e61193d08debdb2e14d7f00dcc49</td>\n",
       "      <td>c1c5e61193d08debdb2e14d7f00dcc49</td>\n",
       "      <td>Europe/Amsterdam</td>\n",
       "      <td>2014-09-15 11:18:57+00:00</td>\n",
       "      <td>1</td>\n",
       "      <td>15</td>\n",
       "      <td>11</td>\n",
       "    </tr>\n",
       "    <tr>\n",
       "      <td>24021</td>\n",
       "      <td>823214346</td>\n",
       "      <td>46b70cd37af791b611d39b6b2d919496</td>\n",
       "      <td>kiss92</td>\n",
       "      <td>2014-06-29 10:28:31</td>\n",
       "      <td>0.800000</td>\n",
       "      <td>en</td>\n",
       "      <td>0.000</td>\n",
       "      <td>0.0587</td>\n",
       "      <td>0.1990</td>\n",
       "      <td>0.466</td>\n",
       "      <td>0.3410</td>\n",
       "      <td>-4.978</td>\n",
       "      <td>160.033</td>\n",
       "      <td>0.0521</td>\n",
       "      <td>0.759</td>\n",
       "      <td>0.0</td>\n",
       "      <td>8.0</td>\n",
       "      <td>1</td>\n",
       "      <td>46b70cd37af791b611d39b6b2d919496</td>\n",
       "      <td>f54919ec082f52715790840bb50bcb79</td>\n",
       "      <td>Asia/Shanghai</td>\n",
       "      <td>2014-06-29 02:28:31+00:00</td>\n",
       "      <td>0</td>\n",
       "      <td>29</td>\n",
       "      <td>02</td>\n",
       "    </tr>\n",
       "    <tr>\n",
       "      <td>50848</td>\n",
       "      <td>81496937</td>\n",
       "      <td>b1f5f2e9484a9796e7c2ce893865b4ad</td>\n",
       "      <td>deathrock</td>\n",
       "      <td>2014-04-22 16:29:32</td>\n",
       "      <td>0.190625</td>\n",
       "      <td>en</td>\n",
       "      <td>0.758</td>\n",
       "      <td>0.1340</td>\n",
       "      <td>0.0372</td>\n",
       "      <td>0.715</td>\n",
       "      <td>0.3670</td>\n",
       "      <td>-3.984</td>\n",
       "      <td>138.017</td>\n",
       "      <td>0.0583</td>\n",
       "      <td>0.718</td>\n",
       "      <td>0.0</td>\n",
       "      <td>9.0</td>\n",
       "      <td>1</td>\n",
       "      <td>b1f5f2e9484a9796e7c2ce893865b4ad</td>\n",
       "      <td>647c0c96da3e4a401fe1022c9d0d2cc3</td>\n",
       "      <td>US/Central</td>\n",
       "      <td>2014-04-22 21:29:32+00:00</td>\n",
       "      <td>2</td>\n",
       "      <td>22</td>\n",
       "      <td>21</td>\n",
       "    </tr>\n",
       "    <tr>\n",
       "      <td>68650</td>\n",
       "      <td>81496937</td>\n",
       "      <td>f5c3a3391ddfd6597051ad05bdb361cf</td>\n",
       "      <td>deathrock</td>\n",
       "      <td>2014-08-14 12:51:45</td>\n",
       "      <td>0.190625</td>\n",
       "      <td>en</td>\n",
       "      <td>0.117</td>\n",
       "      <td>0.0837</td>\n",
       "      <td>0.0422</td>\n",
       "      <td>0.236</td>\n",
       "      <td>0.1120</td>\n",
       "      <td>-26.409</td>\n",
       "      <td>130.244</td>\n",
       "      <td>0.1720</td>\n",
       "      <td>0.132</td>\n",
       "      <td>0.0</td>\n",
       "      <td>9.0</td>\n",
       "      <td>1</td>\n",
       "      <td>f5c3a3391ddfd6597051ad05bdb361cf</td>\n",
       "      <td>6c92671504f3ef71553c92d57ada0b58</td>\n",
       "      <td>US/Central</td>\n",
       "      <td>2014-08-14 17:51:45+00:00</td>\n",
       "      <td>4</td>\n",
       "      <td>14</td>\n",
       "      <td>17</td>\n",
       "    </tr>\n",
       "    <tr>\n",
       "      <td>99748</td>\n",
       "      <td>268402538</td>\n",
       "      <td>e4e9fbeb8566c6fcb8043eb600da4fa3</td>\n",
       "      <td>doommetal</td>\n",
       "      <td>2014-05-05 18:18:03</td>\n",
       "      <td>0.221875</td>\n",
       "      <td>en</td>\n",
       "      <td>0.613</td>\n",
       "      <td>0.4810</td>\n",
       "      <td>0.0710</td>\n",
       "      <td>0.304</td>\n",
       "      <td>0.0596</td>\n",
       "      <td>-9.063</td>\n",
       "      <td>124.052</td>\n",
       "      <td>0.1040</td>\n",
       "      <td>0.775</td>\n",
       "      <td>1.0</td>\n",
       "      <td>9.0</td>\n",
       "      <td>1</td>\n",
       "      <td>e4e9fbeb8566c6fcb8043eb600da4fa3</td>\n",
       "      <td>e4e9fbeb8566c6fcb8043eb600da4fa3</td>\n",
       "      <td>US/Pacific</td>\n",
       "      <td>2014-05-06 01:18:03+00:00</td>\n",
       "      <td>2</td>\n",
       "      <td>05</td>\n",
       "      <td>01</td>\n",
       "    </tr>\n",
       "  </tbody>\n",
       "</table>\n",
       "</div>"
      ],
      "text/plain": [
       "          user_id                          track_id          hashtag  \\\n",
       "92799  1083272065  c1c5e61193d08debdb2e14d7f00dcc49  urbantraxxradio   \n",
       "24021   823214346  46b70cd37af791b611d39b6b2d919496           kiss92   \n",
       "50848    81496937  b1f5f2e9484a9796e7c2ce893865b4ad        deathrock   \n",
       "68650    81496937  f5c3a3391ddfd6597051ad05bdb361cf        deathrock   \n",
       "99748   268402538  e4e9fbeb8566c6fcb8043eb600da4fa3        doommetal   \n",
       "\n",
       "                created_at     score tweet_lang  instrumentalness  liveness  \\\n",
       "92799  2014-09-15 13:18:57  0.700000         en             0.000    0.3660   \n",
       "24021  2014-06-29 10:28:31  0.800000         en             0.000    0.0587   \n",
       "50848  2014-04-22 16:29:32  0.190625         en             0.758    0.1340   \n",
       "68650  2014-08-14 12:51:45  0.190625         en             0.117    0.0837   \n",
       "99748  2014-05-05 18:18:03  0.221875         en             0.613    0.4810   \n",
       "\n",
       "       speechiness  danceability  valence  loudness    tempo  acousticness  \\\n",
       "92799       0.0455         0.772   0.8540    -6.846  136.676        0.0183   \n",
       "24021       0.1990         0.466   0.3410    -4.978  160.033        0.0521   \n",
       "50848       0.0372         0.715   0.3670    -3.984  138.017        0.0583   \n",
       "68650       0.0422         0.236   0.1120   -26.409  130.244        0.1720   \n",
       "99748       0.0710         0.304   0.0596    -9.063  124.052        0.1040   \n",
       "\n",
       "       energy  mode  key  rating                     current_track  \\\n",
       "92799   0.670   1.0  2.0       1  c1c5e61193d08debdb2e14d7f00dcc49   \n",
       "24021   0.759   0.0  8.0       1  46b70cd37af791b611d39b6b2d919496   \n",
       "50848   0.718   0.0  9.0       1  b1f5f2e9484a9796e7c2ce893865b4ad   \n",
       "68650   0.132   0.0  9.0       1  f5c3a3391ddfd6597051ad05bdb361cf   \n",
       "99748   0.775   1.0  9.0       1  e4e9fbeb8566c6fcb8043eb600da4fa3   \n",
       "\n",
       "                         previous_track             zoned  \\\n",
       "92799  c1c5e61193d08debdb2e14d7f00dcc49  Europe/Amsterdam   \n",
       "24021  f54919ec082f52715790840bb50bcb79     Asia/Shanghai   \n",
       "50848  647c0c96da3e4a401fe1022c9d0d2cc3        US/Central   \n",
       "68650  6c92671504f3ef71553c92d57ada0b58        US/Central   \n",
       "99748  e4e9fbeb8566c6fcb8043eb600da4fa3        US/Pacific   \n",
       "\n",
       "                          aware day_w day_m hour_d  \n",
       "92799 2014-09-15 11:18:57+00:00     1    15     11  \n",
       "24021 2014-06-29 02:28:31+00:00     0    29     02  \n",
       "50848 2014-04-22 21:29:32+00:00     2    22     21  \n",
       "68650 2014-08-14 17:51:45+00:00     4    14     17  \n",
       "99748 2014-05-06 01:18:03+00:00     2    05     01  "
      ]
     },
     "execution_count": 96,
     "metadata": {},
     "output_type": "execute_result"
    }
   ],
   "source": [
    "#test.sample(5)"
   ]
  },
  {
   "cell_type": "code",
   "execution_count": 50,
   "metadata": {},
   "outputs": [],
   "source": [
    "sub_set=seq_train[seq_train['user_id'] == user]"
   ]
  },
  {
   "cell_type": "code",
   "execution_count": 61,
   "metadata": {},
   "outputs": [],
   "source": [
    "sub =seq_train.groupby('user_id').count()"
   ]
  },
  {
   "cell_type": "code",
   "execution_count": 62,
   "metadata": {},
   "outputs": [
    {
     "data": {
      "text/plain": [
       "41378"
      ]
     },
     "execution_count": 62,
     "metadata": {},
     "output_type": "execute_result"
    }
   ],
   "source": [
    "sub['track_id'].max()"
   ]
  },
  {
   "cell_type": "code",
   "execution_count": 63,
   "metadata": {},
   "outputs": [
    {
     "data": {
      "text/plain": [
       "(253024, 25)"
      ]
     },
     "execution_count": 63,
     "metadata": {},
     "output_type": "execute_result"
    }
   ],
   "source": [
    "seq_train.shape"
   ]
  },
  {
   "cell_type": "code",
   "execution_count": 64,
   "metadata": {},
   "outputs": [
    {
     "data": {
      "text/plain": [
       "count     253024\n",
       "unique        35\n",
       "top           en\n",
       "freq      241191\n",
       "Name: tweet_lang, dtype: object"
      ]
     },
     "execution_count": 64,
     "metadata": {},
     "output_type": "execute_result"
    }
   ],
   "source": [
    "seq_train.tweet_lang.describe()"
   ]
  },
  {
   "cell_type": "code",
   "execution_count": null,
   "metadata": {},
   "outputs": [],
   "source": []
  }
 ],
 "metadata": {
  "kernelspec": {
   "display_name": "Python 3",
   "language": "python",
   "name": "python3"
  },
  "language_info": {
   "codemirror_mode": {
    "name": "ipython",
    "version": 3
   },
   "file_extension": ".py",
   "mimetype": "text/x-python",
   "name": "python",
   "nbconvert_exporter": "python",
   "pygments_lexer": "ipython3",
   "version": "3.7.4"
  }
 },
 "nbformat": 4,
 "nbformat_minor": 2
}
