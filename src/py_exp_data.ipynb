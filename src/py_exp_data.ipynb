{
 "cells": [
  {
   "cell_type": "markdown",
   "metadata": {},
   "source": [
    "# Exploratory Data Analysis\n",
    "\n",
    "## Daniel Wooten - January 21 2020"
   ]
  },
  {
   "cell_type": "code",
   "execution_count": 1,
   "metadata": {},
   "outputs": [],
   "source": [
    "# Import the packages we need\n",
    "import pandas as pd\n",
    "import numpy as np\n",
    "import sklearn as sk\n",
    "from sklearn.cluster import KMeans\n",
    "from sklearn.decomposition import PCA\n",
    "from matplotlib import pyplot as plt\n",
    "from datetime import datetime\n",
    "import pytz\n",
    "import re\n",
    "import random\n",
    "import math\n",
    "import pdb\n",
    "pd.set_option('display.max_columns', 50)\n",
    "%matplotlib inline"
   ]
  },
  {
   "cell_type": "code",
   "execution_count": 2,
   "metadata": {},
   "outputs": [],
   "source": [
    "# We will need this function later, norammly in another file, this is a notebook.\n",
    "\n",
    "def convert_to_pyz(entry):\n",
    "    \"\"\"This function converts time zone entries from the base data set into time zones acceptable by pytz\"\"\"\n",
    "    \n",
    "    try:\n",
    "        \n",
    "        entry = str(entry)\n",
    "        \n",
    "    except:\n",
    "        \n",
    "        entry = 'nan'\n",
    "    \n",
    "    out = 'Greenwich'\n",
    "    \n",
    "    pattern = re.compile(r'Beijing') \n",
    "    match = pattern.match(entry) \n",
    "    if match is not None:\n",
    "        out = 'Asia/Shanghai'\n",
    "\n",
    "\n",
    "    pattern = re.compile(r'Central Time \\(US & Canada\\)') \n",
    "    match = pattern.match(entry) \n",
    "    if match is not None:\n",
    "        out = 'US/Central'\n",
    "\n",
    "\n",
    "    pattern = re.compile(r'Amsterdam') \n",
    "    match = pattern.match(entry) \n",
    "    if match is not None:\n",
    "        out = 'Europe/Amsterdam'\n",
    "\n",
    "\n",
    "    pattern = re.compile(r'Pacific Time \\(US & Canada\\)') \n",
    "    match = pattern.match(entry) \n",
    "    if match is not None:\n",
    "        out = 'US/Pacific'\n",
    "\n",
    "\n",
    "    pattern = re.compile(r'nan') \n",
    "    match = pattern.match(entry) \n",
    "    if match is not None:\n",
    "        out = 'Greenwich'\n",
    "\n",
    "\n",
    "    pattern = re.compile(r'Edinburgh') \n",
    "    match = pattern.match(entry) \n",
    "    if match is not None:\n",
    "        out = 'Greenwich'\n",
    "\n",
    "\n",
    "    pattern = re.compile(r'Hong Kong') \n",
    "    match = pattern.match(entry) \n",
    "    if match is not None:\n",
    "        out = 'Asia/Hong_Kong'\n",
    "\n",
    "\n",
    "    pattern = re.compile(r'Eastern Time \\(US & Canada\\)') \n",
    "    match = pattern.match(entry) \n",
    "    if match is not None:\n",
    "        out = 'US/Eastern'\n",
    "\n",
    "\n",
    "    pattern = re.compile(r'Berlin') \n",
    "    match = pattern.match(entry) \n",
    "    if match is not None:\n",
    "        out = 'Europe/Berlin'\n",
    "\n",
    "\n",
    "    pattern = re.compile(r'Quito') \n",
    "    match = pattern.match(entry) \n",
    "    if match is not None:\n",
    "        out = 'Pacific/Galapagos'\n",
    "\n",
    "\n",
    "    pattern = re.compile(r'Paris') \n",
    "    match = pattern.match(entry) \n",
    "    if match is not None:\n",
    "        out = 'Europe/Paris'\n",
    "\n",
    "\n",
    "    pattern = re.compile(r'Athens') \n",
    "    match = pattern.match(entry) \n",
    "    if match is not None:\n",
    "        out = 'Europe/Athens'\n",
    "\n",
    "\n",
    "    pattern = re.compile(r'Santiago') \n",
    "    match = pattern.match(entry) \n",
    "    if match is not None:\n",
    "        out = 'America/Santiago'\n",
    "\n",
    "\n",
    "    pattern = re.compile(r'La Paz') \n",
    "    match = pattern.match(entry) \n",
    "    if match is not None:\n",
    "        out = 'America/La_Paz'\n",
    "\n",
    "\n",
    "    pattern = re.compile(r'Irkutsk') \n",
    "    match = pattern.match(entry) \n",
    "    if match is not None:\n",
    "        out = 'Asia/Irkutsk'\n",
    "\n",
    "\n",
    "    pattern = re.compile(r'Arizona') \n",
    "    match = pattern.match(entry) \n",
    "    if match is not None:\n",
    "        out = 'US/Arizona'\n",
    "\n",
    "\n",
    "    pattern = re.compile(r'Atlantic Time (Canada)') \n",
    "    match = pattern.match(entry) \n",
    "    if match is not None:\n",
    "        out = 'Canada/Atlantic'\n",
    "\n",
    "\n",
    "    pattern = re.compile(r'Dublin') \n",
    "    match = pattern.match(entry) \n",
    "    if match is not None:\n",
    "        out = 'Europe/Dublin'\n",
    "\n",
    "\n",
    "    pattern = re.compile(r'London') \n",
    "    match = pattern.match(entry) \n",
    "    if match is not None:\n",
    "        out = 'Europe/London'\n",
    "\n",
    "\n",
    "    pattern = re.compile(r'Madrid') \n",
    "    match = pattern.match(entry) \n",
    "    if match is not None:\n",
    "        out = 'Europe/Madrid'\n",
    "\n",
    "\n",
    "    pattern = re.compile(r'Brasilia') \n",
    "    match = pattern.match(entry) \n",
    "    if match is not None:\n",
    "        out = 'Brazil/DeNoronha'\n",
    "\n",
    "\n",
    "    pattern = re.compile(r'Osaka') \n",
    "    match = pattern.match(entry) \n",
    "    if match is not None:\n",
    "        out = 'Japan'\n",
    "\n",
    "\n",
    "    pattern = re.compile(r'Buenos Aires') \n",
    "    match = pattern.match(entry) \n",
    "    if match is not None:\n",
    "        out = 'America/Argentina/Buenos_Aires'\n",
    "\n",
    "\n",
    "    pattern = re.compile(r'Moscow') \n",
    "    match = pattern.match(entry) \n",
    "    if match is not None:\n",
    "        out = 'Europe/Moscow'\n",
    "\n",
    "\n",
    "    pattern = re.compile(r'Lisbon') \n",
    "    match = pattern.match(entry) \n",
    "    if match is not None:\n",
    "        out = 'Europe/Lisbon'\n",
    "\n",
    "\n",
    "    pattern = re.compile(r'Tokyo') \n",
    "    match = pattern.match(entry) \n",
    "    if match is not None:\n",
    "        out = 'Japan'\n",
    "\n",
    "\n",
    "    pattern = re.compile(r'Kuala Lumpur') \n",
    "    match = pattern.match(entry) \n",
    "    if match is not None:\n",
    "        out = 'Asia/Kuala_Lumpur'\n",
    "\n",
    "\n",
    "    pattern = re.compile(r'Caracas') \n",
    "    match = pattern.match(entry) \n",
    "    if match is not None:\n",
    "        out = 'America/Caracas'\n",
    "\n",
    "\n",
    "    pattern = re.compile(r'Jakarta') \n",
    "    match = pattern.match(entry) \n",
    "    if match is not None:\n",
    "        out = 'Asia/Jakarta'\n",
    "\n",
    "\n",
    "    pattern = re.compile(r'Abu Dhabi') \n",
    "    match = pattern.match(entry) \n",
    "    if match is not None:\n",
    "        out = 'Asia/Dubai'\n",
    "\n",
    "\n",
    "    pattern = re.compile(r'Bangkok') \n",
    "    match = pattern.match(entry) \n",
    "    if match is not None:\n",
    "        out = 'Asia/Bangkok'\n",
    "\n",
    "\n",
    "    pattern = re.compile(r'Casablanca') \n",
    "    match = pattern.match(entry) \n",
    "    if match is not None:\n",
    "        out = 'Africa/Casablanca'\n",
    "\n",
    "\n",
    "    pattern = re.compile(r'Hawaii') \n",
    "    match = pattern.match(entry) \n",
    "    if match is not None:\n",
    "        out = 'US/Hawaii'\n",
    "\n",
    "\n",
    "    pattern = re.compile(r'Mexico City') \n",
    "    match = pattern.match(entry) \n",
    "    if match is not None:\n",
    "        out = 'America/Mexico_City'\n",
    "\n",
    "\n",
    "    pattern = re.compile(r'Mountain Time \\(US & Canada\\)') \n",
    "    match = pattern.match(entry) \n",
    "    if match is not None:\n",
    "        out = 'US/Mountain'\n",
    "\n",
    "\n",
    "    pattern = re.compile(r'Baghdad') \n",
    "    match = pattern.match(entry) \n",
    "    if match is not None:\n",
    "        out = 'Asia/Baghdad'\n",
    "\n",
    "\n",
    "    pattern = re.compile(r'Belgrade') \n",
    "    match = pattern.match(entry) \n",
    "    if match is not None:\n",
    "        out = 'Europe/Belgrade'\n",
    "\n",
    "\n",
    "    pattern = re.compile(r'Copenhagen') \n",
    "    match = pattern.match(entry) \n",
    "    if match is not None:\n",
    "        out = 'Europe/Copenhagen'\n",
    "\n",
    "\n",
    "    pattern = re.compile(r'Rome') \n",
    "    match = pattern.match(entry) \n",
    "    if match is not None:\n",
    "        out = 'Europe/Rome'\n",
    "\n",
    "\n",
    "    pattern = re.compile(r'Tehran') \n",
    "    match = pattern.match(entry) \n",
    "    if match is not None:\n",
    "        out = 'Asia/Tehran'\n",
    "\n",
    "\n",
    "    pattern = re.compile(r'Lima') \n",
    "    match = pattern.match(entry) \n",
    "    if match is not None:\n",
    "        out = 'America/Lima'\n",
    "\n",
    "\n",
    "    pattern = re.compile(r'Sydney') \n",
    "    match = pattern.match(entry) \n",
    "    if match is not None:\n",
    "        out = 'Australia/Sydney'\n",
    "\n",
    "\n",
    "    pattern = re.compile(r'Helsinki') \n",
    "    match = pattern.match(entry) \n",
    "    if match is not None:\n",
    "        out = 'Europe/Helsinki'\n",
    "\n",
    "\n",
    "    pattern = re.compile(r'Tbilisi') \n",
    "    match = pattern.match(entry) \n",
    "    if match is not None:\n",
    "        out = 'Asia/Tbilisi'\n",
    "\n",
    "\n",
    "    pattern = re.compile(r'Alaska') \n",
    "    match = pattern.match(entry) \n",
    "    if match is not None:\n",
    "        out = 'US/Alaska'\n",
    "\n",
    "\n",
    "    pattern = re.compile(r'Sapporo') \n",
    "    match = pattern.match(entry) \n",
    "    if match is not None:\n",
    "        out = 'Japan'\n",
    "\n",
    "\n",
    "    pattern = re.compile(r'Bern') \n",
    "    match = pattern.match(entry) \n",
    "    if match is not None:\n",
    "        out = 'Europe/Zurich'\n",
    "\n",
    "\n",
    "    pattern = re.compile(r'Sofia') \n",
    "    match = pattern.match(entry) \n",
    "    if match is not None:\n",
    "        out = 'Europe/Sofia'\n",
    "\n",
    "\n",
    "    pattern = re.compile(r'Jerusalem') \n",
    "    match = pattern.match(entry) \n",
    "    if match is not None:\n",
    "        out = 'Asia/Jerusalem'\n",
    "\n",
    "\n",
    "    pattern = re.compile(r'West Central Africa') \n",
    "    match = pattern.match(entry) \n",
    "    if match is not None:\n",
    "        out = 'Africa/Khartoum'\n",
    "\n",
    "\n",
    "    pattern = re.compile(r'Brussels') \n",
    "    match = pattern.match(entry) \n",
    "    if match is not None:\n",
    "        out = 'Europe/Brussels'\n",
    "\n",
    "\n",
    "    pattern = re.compile(r'Ekaterinburg') \n",
    "    match = pattern.match(entry) \n",
    "    if match is not None:\n",
    "        out = 'Europe/Kaliningrad'\n",
    "\n",
    "\n",
    "    pattern = re.compile(r'Istanbul') \n",
    "    match = pattern.match(entry) \n",
    "    if match is not None:\n",
    "        out = 'Europe/Istanbul'\n",
    "\n",
    "\n",
    "    pattern = re.compile(r'Bogota') \n",
    "    match = pattern.match(entry) \n",
    "    if match is not None:\n",
    "        out = 'America/Bogota'\n",
    "\n",
    "\n",
    "    pattern = re.compile(r'Singapore') \n",
    "    match = pattern.match(entry) \n",
    "    if match is not None:\n",
    "        out = 'Asia/Singapore'\n",
    "\n",
    "\n",
    "    pattern = re.compile(r'International Date Line West') \n",
    "    match = pattern.match(entry) \n",
    "    if match is not None:\n",
    "        out = 'Pacific/Auckland'\n",
    "\n",
    "\n",
    "    pattern = re.compile(r'Pretoria') \n",
    "    match = pattern.match(entry) \n",
    "    if match is not None:\n",
    "        out = 'Africa/Johannesburg'\n",
    "\n",
    "\n",
    "    pattern = re.compile(r'Greenland') \n",
    "    match = pattern.match(entry) \n",
    "    if match is not None:\n",
    "        out = 'America/Godthab'\n",
    "\n",
    "\n",
    "    pattern = re.compile(r'Central America') \n",
    "    match = pattern.match(entry) \n",
    "    if match is not None:\n",
    "        out = 'US/Central'\n",
    "\n",
    "\n",
    "    pattern = re.compile(r'Melbourne') \n",
    "    match = pattern.match(entry) \n",
    "    if match is not None:\n",
    "        out = 'Australia/Lord_Howe'\n",
    "\n",
    "\n",
    "    pattern = re.compile(r'Novosibirsk') \n",
    "    match = pattern.match(entry) \n",
    "    if match is not None:\n",
    "        out = 'Europe/Kaliningrad'\n",
    "\n",
    "\n",
    "    pattern = re.compile(r'Warsaw') \n",
    "    match = pattern.match(entry) \n",
    "    if match is not None:\n",
    "        out = 'Europe/Warsaw'\n",
    "\n",
    "\n",
    "    pattern = re.compile(r'Perth') \n",
    "    match = pattern.match(entry) \n",
    "    if match is not None:\n",
    "        out = 'Australia/Perth'\n",
    "\n",
    "\n",
    "    pattern = re.compile(r'Stockholm') \n",
    "    match = pattern.match(entry) \n",
    "    if match is not None:\n",
    "        out = 'Europe/Stockholm'\n",
    "\n",
    "\n",
    "    pattern = re.compile(r'Monterrey') \n",
    "    match = pattern.match(entry) \n",
    "    if match is not None:\n",
    "        out = 'America/Mexico_City'\n",
    "\n",
    "\n",
    "    pattern = re.compile(r'Minsk') \n",
    "    match = pattern.match(entry) \n",
    "    if match is not None:\n",
    "        out = 'Europe/Minsk'\n",
    "\n",
    "\n",
    "    pattern = re.compile(r'America/Chicago') \n",
    "    match = pattern.match(entry) \n",
    "    if match is not None:\n",
    "        out = 'US/Central'\n",
    "\n",
    "\n",
    "    pattern = re.compile(r'Vienna') \n",
    "    match = pattern.match(entry) \n",
    "    if match is not None:\n",
    "        out = 'Europe/Vienna'\n",
    "\n",
    "\n",
    "    pattern = re.compile(r'Europe/London') \n",
    "    match = pattern.match(entry) \n",
    "    if match is not None:\n",
    "        out = 'Europe/London'\n",
    "\n",
    "\n",
    "    pattern = re.compile(r'Brisbane') \n",
    "    match = pattern.match(entry) \n",
    "    if match is not None:\n",
    "        out = 'Australia/Brisbane'\n",
    "\n",
    "\n",
    "    pattern = re.compile(r'Kyiv') \n",
    "    match = pattern.match(entry) \n",
    "    if match is not None:\n",
    "        out = 'Europe/Kiev'\n",
    "\n",
    "\n",
    "    pattern = re.compile(r'Seoul') \n",
    "    match = pattern.match(entry) \n",
    "    if match is not None:\n",
    "        out = 'Asia/Seoul'\n",
    "\n",
    "\n",
    "    pattern = re.compile(r'Harare') \n",
    "    match = pattern.match(entry) \n",
    "    if match is not None:\n",
    "        out = 'Africa/Harare'\n",
    "\n",
    "\n",
    "    pattern = re.compile(r'Azores') \n",
    "    match = pattern.match(entry) \n",
    "    if match is not None:\n",
    "        out = 'Atlantic/Azores'\n",
    "\n",
    "\n",
    "    pattern = re.compile(r'Mid-Atlantic') \n",
    "    match = pattern.match(entry) \n",
    "    if match is not None:\n",
    "        out = 'US/Eastern'\n",
    "\n",
    "\n",
    "    pattern = re.compile(r'Bratislava') \n",
    "    match = pattern.match(entry) \n",
    "    if match is not None:\n",
    "        out = 'Europe/Bratislava'\n",
    "\n",
    "\n",
    "    pattern = re.compile(r'Yakutsk') \n",
    "    match = pattern.match(entry) \n",
    "    if match is not None:\n",
    "        out = 'Asia/Yakutsk'\n",
    "\n",
    "\n",
    "    pattern = re.compile(r'Mumbai') \n",
    "    match = pattern.match(entry) \n",
    "    if match is not None:\n",
    "        out = 'Asia/Calcutta'\n",
    "\n",
    "\n",
    "    pattern = re.compile(r'Saskatchewan') \n",
    "    match = pattern.match(entry) \n",
    "    if match is not None:\n",
    "        out = 'Canada/Saskatchewan'\n",
    "\n",
    "\n",
    "    pattern = re.compile(r'Guadalajara') \n",
    "    match = pattern.match(entry) \n",
    "    if match is not None:\n",
    "        out = 'US/Central'\n",
    "\n",
    "\n",
    "    pattern = re.compile(r'Auckland') \n",
    "    match = pattern.match(entry) \n",
    "    if match is not None:\n",
    "        out = 'Pacific/Auckland'\n",
    "\n",
    "\n",
    "    pattern = re.compile(r'Ljubljana') \n",
    "    match = pattern.match(entry) \n",
    "    if match is not None:\n",
    "        out = 'Europe/Ljubljana'\n",
    "\n",
    "\n",
    "    pattern = re.compile(r'Adelaide') \n",
    "    match = pattern.match(entry) \n",
    "    if match is not None:\n",
    "        out = 'Australia/Adelaide'\n",
    "\n",
    "\n",
    "    pattern = re.compile(r'Canberra') \n",
    "    match = pattern.match(entry) \n",
    "    if match is not None:\n",
    "        out = 'Australia/Canberra'\n",
    "\n",
    "\n",
    "    pattern = re.compile(r'Chihuahua') \n",
    "    match = pattern.match(entry) \n",
    "    if match is not None:\n",
    "        out = 'America/Chihuahua'\n",
    "\n",
    "\n",
    "    pattern = re.compile(r'Taipei') \n",
    "    match = pattern.match(entry) \n",
    "    if match is not None:\n",
    "        out = 'Asia/Taipei'\n",
    "\n",
    "\n",
    "    pattern = re.compile(r'Budapest') \n",
    "    match = pattern.match(entry) \n",
    "    if match is not None:\n",
    "        out = 'Europe/Budapest'\n",
    "\n",
    "\n",
    "    pattern = re.compile(r'Kathmandu') \n",
    "    match = pattern.match(entry) \n",
    "    if match is not None:\n",
    "        out = 'Asia/Kathmandu'\n",
    "\n",
    "\n",
    "    pattern = re.compile(r'Islamabad') \n",
    "    match = pattern.match(entry) \n",
    "    if match is not None:\n",
    "        out = 'Asia/Karachi'\n",
    "\n",
    "\n",
    "    pattern = re.compile(r'America/New_York') \n",
    "    match = pattern.match(entry) \n",
    "    if match is not None:\n",
    "        out = 'US/Eastern'\n",
    "\n",
    "\n",
    "    pattern = re.compile(r'Prague') \n",
    "    match = pattern.match(entry) \n",
    "    if match is not None:\n",
    "        out = 'Europe/Prague'\n",
    "\n",
    "\n",
    "    pattern = re.compile(r'America/Sao_Paulo') \n",
    "    match = pattern.match(entry) \n",
    "    if match is not None:\n",
    "        out = 'America/Sao_Paulo'\n",
    "\n",
    "\n",
    "    pattern = re.compile(r'Almaty') \n",
    "    match = pattern.match(entry) \n",
    "    if match is not None:\n",
    "        out = 'Asia/Almaty'\n",
    "\n",
    "\n",
    "    pattern = re.compile(r'Cairo') \n",
    "    match = pattern.match(entry) \n",
    "    if match is not None:\n",
    "        out = 'Africa/Cairo'\n",
    "\n",
    "\n",
    "    pattern = re.compile(r'Pacific/Guam') \n",
    "    match = pattern.match(entry) \n",
    "    if match is not None:\n",
    "        out = 'Pacific/Guam'\n",
    "\n",
    "\n",
    "    pattern = re.compile(r'New Delhi') \n",
    "    match = pattern.match(entry) \n",
    "    if match is not None:\n",
    "        out = 'Asia/Calcutta'\n",
    "\n",
    "\n",
    "    pattern = re.compile(r'Astana') \n",
    "    match = pattern.match(entry) \n",
    "    if match is not None:\n",
    "        out = 'Asia/Almaty'\n",
    "\n",
    "\n",
    "    pattern = re.compile(r'Riga') \n",
    "    match = pattern.match(entry) \n",
    "    if match is not None:\n",
    "        out = 'Europe/Riga'\n",
    "\n",
    "\n",
    "    \n",
    "    return(out)\n",
    "    "
   ]
  },
  {
   "cell_type": "code",
   "execution_count": 3,
   "metadata": {},
   "outputs": [],
   "source": [
    "# read in the ras file and convert it to a pandas csv, then close this file\n",
    "raw_seq_train = open('/home/dwooten/Documents/insight/data/splits/sequence/train_SEQ.csv','r')"
   ]
  },
  {
   "cell_type": "code",
   "execution_count": 4,
   "metadata": {},
   "outputs": [],
   "source": [
    "seq_train = pd.read_csv(raw_seq_train, sep=',', header=0, index_col=False)"
   ]
  },
  {
   "cell_type": "code",
   "execution_count": 5,
   "metadata": {},
   "outputs": [],
   "source": [
    "raw_seq_train.close()"
   ]
  },
  {
   "cell_type": "code",
   "execution_count": 6,
   "metadata": {},
   "outputs": [
    {
     "data": {
      "text/html": [
       "<div>\n",
       "<style scoped>\n",
       "    .dataframe tbody tr th:only-of-type {\n",
       "        vertical-align: middle;\n",
       "    }\n",
       "\n",
       "    .dataframe tbody tr th {\n",
       "        vertical-align: top;\n",
       "    }\n",
       "\n",
       "    .dataframe thead th {\n",
       "        text-align: right;\n",
       "    }\n",
       "</style>\n",
       "<table border=\"1\" class=\"dataframe\">\n",
       "  <thead>\n",
       "    <tr style=\"text-align: right;\">\n",
       "      <th></th>\n",
       "      <th>user_id</th>\n",
       "      <th>track_id</th>\n",
       "      <th>hashtag</th>\n",
       "      <th>created_at</th>\n",
       "      <th>score</th>\n",
       "      <th>lang</th>\n",
       "      <th>tweet_lang</th>\n",
       "      <th>time_zone</th>\n",
       "      <th>instrumentalness</th>\n",
       "      <th>liveness</th>\n",
       "      <th>speechiness</th>\n",
       "      <th>danceability</th>\n",
       "      <th>valence</th>\n",
       "      <th>loudness</th>\n",
       "      <th>tempo</th>\n",
       "      <th>acousticness</th>\n",
       "      <th>energy</th>\n",
       "      <th>mode</th>\n",
       "      <th>key</th>\n",
       "      <th>rating</th>\n",
       "      <th>current_track</th>\n",
       "      <th>previous_track</th>\n",
       "    </tr>\n",
       "  </thead>\n",
       "  <tbody>\n",
       "    <tr>\n",
       "      <td>115512</td>\n",
       "      <td>308580291</td>\n",
       "      <td>6f5b4967fe92cc31ad7031cc0b40e591</td>\n",
       "      <td>np</td>\n",
       "      <td>2014-06-25 18:01:26</td>\n",
       "      <td>0.675000</td>\n",
       "      <td>nl</td>\n",
       "      <td>en</td>\n",
       "      <td>Amsterdam</td>\n",
       "      <td>0.019600</td>\n",
       "      <td>0.0737</td>\n",
       "      <td>0.0521</td>\n",
       "      <td>0.728</td>\n",
       "      <td>0.590</td>\n",
       "      <td>-8.801</td>\n",
       "      <td>129.026</td>\n",
       "      <td>0.184000</td>\n",
       "      <td>0.728</td>\n",
       "      <td>1.0</td>\n",
       "      <td>2.0</td>\n",
       "      <td>1</td>\n",
       "      <td>6f5b4967fe92cc31ad7031cc0b40e591</td>\n",
       "      <td>279140b9305b5247ab8f07b0993027dd</td>\n",
       "    </tr>\n",
       "    <tr>\n",
       "      <td>220604</td>\n",
       "      <td>278691053</td>\n",
       "      <td>dd5ab99e3a6619d37abcff464d45ab9f</td>\n",
       "      <td>like</td>\n",
       "      <td>2014-07-23 07:12:04</td>\n",
       "      <td>0.771875</td>\n",
       "      <td>de</td>\n",
       "      <td>en</td>\n",
       "      <td>NaN</td>\n",
       "      <td>0.390000</td>\n",
       "      <td>0.1040</td>\n",
       "      <td>0.0512</td>\n",
       "      <td>0.721</td>\n",
       "      <td>0.951</td>\n",
       "      <td>-7.699</td>\n",
       "      <td>127.006</td>\n",
       "      <td>0.001260</td>\n",
       "      <td>0.728</td>\n",
       "      <td>0.0</td>\n",
       "      <td>10.0</td>\n",
       "      <td>1</td>\n",
       "      <td>dd5ab99e3a6619d37abcff464d45ab9f</td>\n",
       "      <td>549579f50c77ed2e8c8b9326c8daa56e</td>\n",
       "    </tr>\n",
       "    <tr>\n",
       "      <td>171551</td>\n",
       "      <td>1617892824</td>\n",
       "      <td>acca7456f99b4699871d3fe249e5fe11</td>\n",
       "      <td>np</td>\n",
       "      <td>2014-04-07 07:00:01</td>\n",
       "      <td>0.675000</td>\n",
       "      <td>en</td>\n",
       "      <td>en</td>\n",
       "      <td>Berlin</td>\n",
       "      <td>0.000000</td>\n",
       "      <td>0.1350</td>\n",
       "      <td>0.1390</td>\n",
       "      <td>0.636</td>\n",
       "      <td>0.329</td>\n",
       "      <td>-9.524</td>\n",
       "      <td>84.804</td>\n",
       "      <td>0.112000</td>\n",
       "      <td>0.436</td>\n",
       "      <td>1.0</td>\n",
       "      <td>7.0</td>\n",
       "      <td>1</td>\n",
       "      <td>acca7456f99b4699871d3fe249e5fe11</td>\n",
       "      <td>b9fa88d18f7dda845789155d69177df0</td>\n",
       "    </tr>\n",
       "    <tr>\n",
       "      <td>119574</td>\n",
       "      <td>308580291</td>\n",
       "      <td>c81c09b27ee1bb6ecf0a5dbd9c2364d8</td>\n",
       "      <td>np</td>\n",
       "      <td>2014-07-29 11:56:34</td>\n",
       "      <td>0.675000</td>\n",
       "      <td>nl</td>\n",
       "      <td>en</td>\n",
       "      <td>Amsterdam</td>\n",
       "      <td>0.000427</td>\n",
       "      <td>0.0807</td>\n",
       "      <td>0.0513</td>\n",
       "      <td>0.752</td>\n",
       "      <td>0.810</td>\n",
       "      <td>-5.273</td>\n",
       "      <td>110.142</td>\n",
       "      <td>0.005600</td>\n",
       "      <td>0.879</td>\n",
       "      <td>0.0</td>\n",
       "      <td>10.0</td>\n",
       "      <td>1</td>\n",
       "      <td>c81c09b27ee1bb6ecf0a5dbd9c2364d8</td>\n",
       "      <td>15ca43fca28b70a639cc1c3f2eb72521</td>\n",
       "    </tr>\n",
       "    <tr>\n",
       "      <td>215244</td>\n",
       "      <td>160874621</td>\n",
       "      <td>addc364df8649d91eb69b709cd1829c3</td>\n",
       "      <td>gossip</td>\n",
       "      <td>2014-06-05 02:42:48</td>\n",
       "      <td>0.270833</td>\n",
       "      <td>de</td>\n",
       "      <td>en</td>\n",
       "      <td>Berlin</td>\n",
       "      <td>0.087300</td>\n",
       "      <td>0.1080</td>\n",
       "      <td>0.0288</td>\n",
       "      <td>0.670</td>\n",
       "      <td>0.777</td>\n",
       "      <td>-5.700</td>\n",
       "      <td>124.998</td>\n",
       "      <td>0.001720</td>\n",
       "      <td>0.798</td>\n",
       "      <td>0.0</td>\n",
       "      <td>10.0</td>\n",
       "      <td>1</td>\n",
       "      <td>addc364df8649d91eb69b709cd1829c3</td>\n",
       "      <td>9b9adb5f4e4febc7d11e70bfbaf10fde</td>\n",
       "    </tr>\n",
       "    <tr>\n",
       "      <td>170158</td>\n",
       "      <td>126040912</td>\n",
       "      <td>5b488c529540d9dbc85c4f603ee1dbf5</td>\n",
       "      <td>craveradio</td>\n",
       "      <td>2014-09-21 01:35:51</td>\n",
       "      <td>0.300000</td>\n",
       "      <td>en</td>\n",
       "      <td>fr</td>\n",
       "      <td>Eastern Time (US &amp; Canada)</td>\n",
       "      <td>0.000000</td>\n",
       "      <td>0.0399</td>\n",
       "      <td>0.0389</td>\n",
       "      <td>0.742</td>\n",
       "      <td>0.962</td>\n",
       "      <td>-3.697</td>\n",
       "      <td>128.981</td>\n",
       "      <td>0.036400</td>\n",
       "      <td>0.803</td>\n",
       "      <td>1.0</td>\n",
       "      <td>9.0</td>\n",
       "      <td>1</td>\n",
       "      <td>5b488c529540d9dbc85c4f603ee1dbf5</td>\n",
       "      <td>885f834fa86ac9077729e13db3a1fd73</td>\n",
       "    </tr>\n",
       "    <tr>\n",
       "      <td>80133</td>\n",
       "      <td>1083272065</td>\n",
       "      <td>df761cacba1a08afad4d3187e646a8a0</td>\n",
       "      <td>urbantraxxradio</td>\n",
       "      <td>2014-04-26 15:01:10</td>\n",
       "      <td>0.700000</td>\n",
       "      <td>nl</td>\n",
       "      <td>en</td>\n",
       "      <td>Amsterdam</td>\n",
       "      <td>0.000000</td>\n",
       "      <td>0.6020</td>\n",
       "      <td>0.0563</td>\n",
       "      <td>0.577</td>\n",
       "      <td>0.113</td>\n",
       "      <td>-6.299</td>\n",
       "      <td>133.973</td>\n",
       "      <td>0.014300</td>\n",
       "      <td>0.576</td>\n",
       "      <td>1.0</td>\n",
       "      <td>2.0</td>\n",
       "      <td>1</td>\n",
       "      <td>df761cacba1a08afad4d3187e646a8a0</td>\n",
       "      <td>df761cacba1a08afad4d3187e646a8a0</td>\n",
       "    </tr>\n",
       "    <tr>\n",
       "      <td>269</td>\n",
       "      <td>823214346</td>\n",
       "      <td>4930e1dc6592873414153809b52c94b1</td>\n",
       "      <td>kiss92</td>\n",
       "      <td>2014-01-02 05:29:01</td>\n",
       "      <td>0.800000</td>\n",
       "      <td>en</td>\n",
       "      <td>en</td>\n",
       "      <td>Beijing</td>\n",
       "      <td>0.000005</td>\n",
       "      <td>0.1030</td>\n",
       "      <td>0.0374</td>\n",
       "      <td>0.640</td>\n",
       "      <td>0.260</td>\n",
       "      <td>-9.432</td>\n",
       "      <td>176.086</td>\n",
       "      <td>0.509000</td>\n",
       "      <td>0.433</td>\n",
       "      <td>1.0</td>\n",
       "      <td>5.0</td>\n",
       "      <td>1</td>\n",
       "      <td>4930e1dc6592873414153809b52c94b1</td>\n",
       "      <td>acca7456f99b4699871d3fe249e5fe11</td>\n",
       "    </tr>\n",
       "    <tr>\n",
       "      <td>59127</td>\n",
       "      <td>81496937</td>\n",
       "      <td>12ca61c3e344cc6e2cfd135cf67950a8</td>\n",
       "      <td>deathrock</td>\n",
       "      <td>2014-06-16 18:16:31</td>\n",
       "      <td>0.190625</td>\n",
       "      <td>en</td>\n",
       "      <td>en</td>\n",
       "      <td>Central Time (US &amp; Canada)</td>\n",
       "      <td>0.731000</td>\n",
       "      <td>0.0766</td>\n",
       "      <td>0.0295</td>\n",
       "      <td>0.631</td>\n",
       "      <td>0.465</td>\n",
       "      <td>-7.667</td>\n",
       "      <td>118.185</td>\n",
       "      <td>0.000593</td>\n",
       "      <td>0.900</td>\n",
       "      <td>0.0</td>\n",
       "      <td>3.0</td>\n",
       "      <td>1</td>\n",
       "      <td>12ca61c3e344cc6e2cfd135cf67950a8</td>\n",
       "      <td>5a9636026565503724e2d5ad19767158</td>\n",
       "    </tr>\n",
       "    <tr>\n",
       "      <td>192744</td>\n",
       "      <td>1901627161</td>\n",
       "      <td>5c24009123b7434b98b14bb710badc4c</td>\n",
       "      <td>rock</td>\n",
       "      <td>2014-03-09 15:11:55</td>\n",
       "      <td>0.700000</td>\n",
       "      <td>en</td>\n",
       "      <td>en</td>\n",
       "      <td>NaN</td>\n",
       "      <td>0.246000</td>\n",
       "      <td>0.5640</td>\n",
       "      <td>0.0424</td>\n",
       "      <td>0.604</td>\n",
       "      <td>0.470</td>\n",
       "      <td>-4.308</td>\n",
       "      <td>123.996</td>\n",
       "      <td>0.000107</td>\n",
       "      <td>0.950</td>\n",
       "      <td>1.0</td>\n",
       "      <td>5.0</td>\n",
       "      <td>1</td>\n",
       "      <td>5c24009123b7434b98b14bb710badc4c</td>\n",
       "      <td>98ee3b6e02cc4caa04f52bd963841d3e</td>\n",
       "    </tr>\n",
       "  </tbody>\n",
       "</table>\n",
       "</div>"
      ],
      "text/plain": [
       "           user_id                          track_id          hashtag  \\\n",
       "115512   308580291  6f5b4967fe92cc31ad7031cc0b40e591               np   \n",
       "220604   278691053  dd5ab99e3a6619d37abcff464d45ab9f             like   \n",
       "171551  1617892824  acca7456f99b4699871d3fe249e5fe11               np   \n",
       "119574   308580291  c81c09b27ee1bb6ecf0a5dbd9c2364d8               np   \n",
       "215244   160874621  addc364df8649d91eb69b709cd1829c3           gossip   \n",
       "170158   126040912  5b488c529540d9dbc85c4f603ee1dbf5       craveradio   \n",
       "80133   1083272065  df761cacba1a08afad4d3187e646a8a0  urbantraxxradio   \n",
       "269      823214346  4930e1dc6592873414153809b52c94b1           kiss92   \n",
       "59127     81496937  12ca61c3e344cc6e2cfd135cf67950a8        deathrock   \n",
       "192744  1901627161  5c24009123b7434b98b14bb710badc4c             rock   \n",
       "\n",
       "                 created_at     score lang tweet_lang  \\\n",
       "115512  2014-06-25 18:01:26  0.675000   nl         en   \n",
       "220604  2014-07-23 07:12:04  0.771875   de         en   \n",
       "171551  2014-04-07 07:00:01  0.675000   en         en   \n",
       "119574  2014-07-29 11:56:34  0.675000   nl         en   \n",
       "215244  2014-06-05 02:42:48  0.270833   de         en   \n",
       "170158  2014-09-21 01:35:51  0.300000   en         fr   \n",
       "80133   2014-04-26 15:01:10  0.700000   nl         en   \n",
       "269     2014-01-02 05:29:01  0.800000   en         en   \n",
       "59127   2014-06-16 18:16:31  0.190625   en         en   \n",
       "192744  2014-03-09 15:11:55  0.700000   en         en   \n",
       "\n",
       "                         time_zone  instrumentalness  liveness  speechiness  \\\n",
       "115512                   Amsterdam          0.019600    0.0737       0.0521   \n",
       "220604                         NaN          0.390000    0.1040       0.0512   \n",
       "171551                      Berlin          0.000000    0.1350       0.1390   \n",
       "119574                   Amsterdam          0.000427    0.0807       0.0513   \n",
       "215244                      Berlin          0.087300    0.1080       0.0288   \n",
       "170158  Eastern Time (US & Canada)          0.000000    0.0399       0.0389   \n",
       "80133                    Amsterdam          0.000000    0.6020       0.0563   \n",
       "269                        Beijing          0.000005    0.1030       0.0374   \n",
       "59127   Central Time (US & Canada)          0.731000    0.0766       0.0295   \n",
       "192744                         NaN          0.246000    0.5640       0.0424   \n",
       "\n",
       "        danceability  valence  loudness    tempo  acousticness  energy  mode  \\\n",
       "115512         0.728    0.590    -8.801  129.026      0.184000   0.728   1.0   \n",
       "220604         0.721    0.951    -7.699  127.006      0.001260   0.728   0.0   \n",
       "171551         0.636    0.329    -9.524   84.804      0.112000   0.436   1.0   \n",
       "119574         0.752    0.810    -5.273  110.142      0.005600   0.879   0.0   \n",
       "215244         0.670    0.777    -5.700  124.998      0.001720   0.798   0.0   \n",
       "170158         0.742    0.962    -3.697  128.981      0.036400   0.803   1.0   \n",
       "80133          0.577    0.113    -6.299  133.973      0.014300   0.576   1.0   \n",
       "269            0.640    0.260    -9.432  176.086      0.509000   0.433   1.0   \n",
       "59127          0.631    0.465    -7.667  118.185      0.000593   0.900   0.0   \n",
       "192744         0.604    0.470    -4.308  123.996      0.000107   0.950   1.0   \n",
       "\n",
       "         key  rating                     current_track  \\\n",
       "115512   2.0       1  6f5b4967fe92cc31ad7031cc0b40e591   \n",
       "220604  10.0       1  dd5ab99e3a6619d37abcff464d45ab9f   \n",
       "171551   7.0       1  acca7456f99b4699871d3fe249e5fe11   \n",
       "119574  10.0       1  c81c09b27ee1bb6ecf0a5dbd9c2364d8   \n",
       "215244  10.0       1  addc364df8649d91eb69b709cd1829c3   \n",
       "170158   9.0       1  5b488c529540d9dbc85c4f603ee1dbf5   \n",
       "80133    2.0       1  df761cacba1a08afad4d3187e646a8a0   \n",
       "269      5.0       1  4930e1dc6592873414153809b52c94b1   \n",
       "59127    3.0       1  12ca61c3e344cc6e2cfd135cf67950a8   \n",
       "192744   5.0       1  5c24009123b7434b98b14bb710badc4c   \n",
       "\n",
       "                          previous_track  \n",
       "115512  279140b9305b5247ab8f07b0993027dd  \n",
       "220604  549579f50c77ed2e8c8b9326c8daa56e  \n",
       "171551  b9fa88d18f7dda845789155d69177df0  \n",
       "119574  15ca43fca28b70a639cc1c3f2eb72521  \n",
       "215244  9b9adb5f4e4febc7d11e70bfbaf10fde  \n",
       "170158  885f834fa86ac9077729e13db3a1fd73  \n",
       "80133   df761cacba1a08afad4d3187e646a8a0  \n",
       "269     acca7456f99b4699871d3fe249e5fe11  \n",
       "59127   5a9636026565503724e2d5ad19767158  \n",
       "192744  98ee3b6e02cc4caa04f52bd963841d3e  "
      ]
     },
     "execution_count": 6,
     "metadata": {},
     "output_type": "execute_result"
    }
   ],
   "source": [
    "# Let's start looking around!\n",
    "seq_train.sample(10)"
   ]
  },
  {
   "cell_type": "markdown",
   "metadata": {},
   "source": [
    "It's got the right number of columns and looks well formatted, it should be, this was a data set put out for benchmarking! Let's take a quick tour of the data fields"
   ]
  },
  {
   "cell_type": "markdown",
   "metadata": {},
   "source": [
    "Here, let's engineer some basic time features"
   ]
  },
  {
   "cell_type": "code",
   "execution_count": 7,
   "metadata": {},
   "outputs": [],
   "source": [
    "seq_train.user_id = seq_train.user_id.astype('category')"
   ]
  },
  {
   "cell_type": "code",
   "execution_count": 8,
   "metadata": {},
   "outputs": [
    {
     "data": {
      "text/plain": [
       "count        253030\n",
       "unique         1830\n",
       "top       823214346\n",
       "freq          41378\n",
       "Name: user_id, dtype: int64"
      ]
     },
     "execution_count": 8,
     "metadata": {},
     "output_type": "execute_result"
    }
   ],
   "source": [
    "seq_train.user_id.describe()"
   ]
  },
  {
   "cell_type": "code",
   "execution_count": 9,
   "metadata": {},
   "outputs": [],
   "source": [
    "seq_train['full_date']=pd.to_datetime(seq_train.created_at)"
   ]
  },
  {
   "cell_type": "code",
   "execution_count": 10,
   "metadata": {},
   "outputs": [
    {
     "data": {
      "text/plain": [
       "count                  253030\n",
       "unique                 211537\n",
       "top       2014-07-24 20:15:23\n",
       "freq                        9\n",
       "first     2014-01-01 05:54:21\n",
       "last      2014-09-30 23:57:44\n",
       "Name: full_date, dtype: object"
      ]
     },
     "execution_count": 10,
     "metadata": {},
     "output_type": "execute_result"
    }
   ],
   "source": [
    "seq_train.full_date.describe()"
   ]
  },
  {
   "cell_type": "code",
   "execution_count": 11,
   "metadata": {},
   "outputs": [
    {
     "data": {
      "text/plain": [
       "count                         232003\n",
       "unique                            97\n",
       "top       Central Time (US & Canada)\n",
       "freq                           50061\n",
       "Name: time_zone, dtype: object"
      ]
     },
     "execution_count": 11,
     "metadata": {},
     "output_type": "execute_result"
    }
   ],
   "source": [
    "seq_train.time_zone.describe()"
   ]
  },
  {
   "cell_type": "code",
   "execution_count": 12,
   "metadata": {},
   "outputs": [],
   "source": [
    "seq_train['zoned'] = seq_train.time_zone.apply(lambda x: convert_to_pyz(x))"
   ]
  },
  {
   "cell_type": "code",
   "execution_count": 13,
   "metadata": {},
   "outputs": [
    {
     "data": {
      "text/plain": [
       "count         253030\n",
       "unique            83\n",
       "top       US/Central\n",
       "freq           50097\n",
       "Name: zoned, dtype: object"
      ]
     },
     "execution_count": 13,
     "metadata": {},
     "output_type": "execute_result"
    }
   ],
   "source": [
    "seq_train.zoned.describe()"
   ]
  },
  {
   "cell_type": "code",
   "execution_count": 14,
   "metadata": {
    "scrolled": true
   },
   "outputs": [
    {
     "data": {
      "text/plain": [
       "181512          US/Eastern\n",
       "88358     Europe/Amsterdam\n",
       "40013        Asia/Shanghai\n",
       "146521           Greenwich\n",
       "57043           US/Central\n",
       "Name: zoned, dtype: object"
      ]
     },
     "execution_count": 14,
     "metadata": {},
     "output_type": "execute_result"
    }
   ],
   "source": [
    "seq_train.zoned.sample(5)"
   ]
  },
  {
   "cell_type": "code",
   "execution_count": 15,
   "metadata": {},
   "outputs": [],
   "source": [
    "seq_train['zone_objects'] = seq_train.zoned.apply(lambda x: pytz.timezone(x))"
   ]
  },
  {
   "cell_type": "code",
   "execution_count": 16,
   "metadata": {},
   "outputs": [],
   "source": [
    "seq_train['aware'] = seq_train.apply(lambda row: row.zone_objects.localize(row.full_date) , axis = 1)"
   ]
  },
  {
   "cell_type": "code",
   "execution_count": 17,
   "metadata": {},
   "outputs": [],
   "source": [
    "seq_train['aware'] = seq_train.aware.apply(lambda x: x.astimezone('utc'))"
   ]
  },
  {
   "cell_type": "code",
   "execution_count": 18,
   "metadata": {},
   "outputs": [],
   "source": [
    "seq_train['day_w']=seq_train.aware.apply(lambda x: int(x.strftime('%w')))"
   ]
  },
  {
   "cell_type": "code",
   "execution_count": 19,
   "metadata": {},
   "outputs": [
    {
     "data": {
      "text/plain": [
       "count    253030.000000\n",
       "mean          2.981935\n",
       "std           2.004771\n",
       "min           0.000000\n",
       "25%           1.000000\n",
       "50%           3.000000\n",
       "75%           5.000000\n",
       "max           6.000000\n",
       "Name: day_w, dtype: float64"
      ]
     },
     "execution_count": 19,
     "metadata": {},
     "output_type": "execute_result"
    }
   ],
   "source": [
    "seq_train.day_w.describe()"
   ]
  },
  {
   "cell_type": "code",
   "execution_count": 20,
   "metadata": {},
   "outputs": [
    {
     "data": {
      "text/plain": [
       "<matplotlib.axes._subplots.AxesSubplot at 0x7f31e07b2750>"
      ]
     },
     "execution_count": 20,
     "metadata": {},
     "output_type": "execute_result"
    },
    {
     "data": {
      "image/png": "[encoded data removed]",
      "text/plain": [
       "<Figure size 432x288 with 1 Axes>"
      ]
     },
     "metadata": {
      "needs_background": "light"
     },
     "output_type": "display_data"
    }
   ],
   "source": [
    "seq_train.day_w.hist(bins=7)"
   ]
  },
  {
   "cell_type": "markdown",
   "metadata": {},
   "source": [
    "This is surprising, evenly distributed data across the week - this must be a currated result"
   ]
  },
  {
   "cell_type": "code",
   "execution_count": 21,
   "metadata": {},
   "outputs": [
    {
     "data": {
      "text/plain": [
       "32795     3\n",
       "136873    2\n",
       "92014     1\n",
       "16353     6\n",
       "136794    2\n",
       "Name: day_w, dtype: int64"
      ]
     },
     "execution_count": 21,
     "metadata": {},
     "output_type": "execute_result"
    }
   ],
   "source": [
    "seq_train.day_w.sample(5)"
   ]
  },
  {
   "cell_type": "code",
   "execution_count": 22,
   "metadata": {},
   "outputs": [],
   "source": [
    "seq_train['day_m']=seq_train.aware.apply(lambda x: int(x.strftime('%d')))"
   ]
  },
  {
   "cell_type": "code",
   "execution_count": 23,
   "metadata": {},
   "outputs": [
    {
     "data": {
      "text/plain": [
       "<matplotlib.axes._subplots.AxesSubplot at 0x7f31cdfbf9d0>"
      ]
     },
     "execution_count": 23,
     "metadata": {},
     "output_type": "execute_result"
    },
    {
     "data": {
      "image/png": "[encoded data removed]",
      "text/plain": [
       "<Figure size 432x288 with 1 Axes>"
      ]
     },
     "metadata": {
      "needs_background": "light"
     },
     "output_type": "display_data"
    }
   ],
   "source": [
    "seq_train.day_m.hist(bins=30)"
   ]
  },
  {
   "cell_type": "code",
   "execution_count": 24,
   "metadata": {},
   "outputs": [],
   "source": [
    "seq_train['hour_d']=seq_train.aware.apply(lambda x: int(x.strftime('%H')))"
   ]
  },
  {
   "cell_type": "code",
   "execution_count": 25,
   "metadata": {
    "scrolled": true
   },
   "outputs": [
    {
     "data": {
      "text/plain": [
       "<matplotlib.axes._subplots.AxesSubplot at 0x7f31e07a19d0>"
      ]
     },
     "execution_count": 25,
     "metadata": {},
     "output_type": "execute_result"
    },
    {
     "data": {
      "image/png": "[encoded data removed]",
      "text/plain": [
       "<Figure size 432x288 with 1 Axes>"
      ]
     },
     "metadata": {
      "needs_background": "light"
     },
     "output_type": "display_data"
    }
   ],
   "source": [
    "seq_train.hour_d.hist(bins=24)"
   ]
  },
  {
   "cell_type": "markdown",
   "metadata": {},
   "source": [
    "Absolutely a currated data set, "
   ]
  },
  {
   "cell_type": "code",
   "execution_count": 26,
   "metadata": {},
   "outputs": [
    {
     "data": {
      "text/plain": [
       "count    253030.000000\n",
       "mean          0.512384\n",
       "std           0.305385\n",
       "min           0.000000\n",
       "25%           0.200000\n",
       "50%           0.675000\n",
       "75%           0.766667\n",
       "max           1.000000\n",
       "Name: score, dtype: float64"
      ]
     },
     "execution_count": 26,
     "metadata": {},
     "output_type": "execute_result"
    }
   ],
   "source": [
    "seq_train.score.describe()"
   ]
  },
  {
   "cell_type": "code",
   "execution_count": 27,
   "metadata": {},
   "outputs": [
    {
     "data": {
      "text/plain": [
       "'cc1a46ee0446538ecf6b65db01c30cd8'"
      ]
     },
     "execution_count": 27,
     "metadata": {},
     "output_type": "execute_result"
    }
   ],
   "source": [
    "seq_train.track_id.unique()[1]"
   ]
  },
  {
   "cell_type": "markdown",
   "metadata": {},
   "source": [
    "How many NaNs do we have?"
   ]
  },
  {
   "cell_type": "code",
   "execution_count": 28,
   "metadata": {},
   "outputs": [],
   "source": [
    "seq_train = seq_train.drop(axis=1,columns=['time_zone', 'lang', 'full_date', 'zone_objects'])"
   ]
  },
  {
   "cell_type": "code",
   "execution_count": 29,
   "metadata": {},
   "outputs": [],
   "source": [
    "seq_train['null'] = seq_train.liveness.apply(lambda x: 0)"
   ]
  },
  {
   "cell_type": "code",
   "execution_count": 30,
   "metadata": {},
   "outputs": [],
   "source": [
    "seq_train['null'] = seq_train.apply(lambda x: sum(x.isnull().values.astype('int')), axis = 1)"
   ]
  },
  {
   "cell_type": "code",
   "execution_count": 31,
   "metadata": {},
   "outputs": [
    {
     "data": {
      "text/plain": [
       "count    253030.000000\n",
       "mean          0.000190\n",
       "std           0.040449\n",
       "min           0.000000\n",
       "25%           0.000000\n",
       "50%           0.000000\n",
       "75%           0.000000\n",
       "max           9.000000\n",
       "Name: null, dtype: float64"
      ]
     },
     "execution_count": 31,
     "metadata": {},
     "output_type": "execute_result"
    }
   ],
   "source": [
    "seq_train.null.describe()"
   ]
  },
  {
   "cell_type": "code",
   "execution_count": 32,
   "metadata": {},
   "outputs": [],
   "source": [
    "seq_train.null = seq_train.null.apply(lambda x: 1 if x > 0 else 0)"
   ]
  },
  {
   "cell_type": "code",
   "execution_count": 33,
   "metadata": {},
   "outputs": [
    {
     "data": {
      "text/plain": [
       "6"
      ]
     },
     "execution_count": 33,
     "metadata": {},
     "output_type": "execute_result"
    }
   ],
   "source": [
    "seq_train.null.sum()"
   ]
  },
  {
   "cell_type": "markdown",
   "metadata": {},
   "source": [
    "We've only got 6 rows with bad data, let's see what's going on"
   ]
  },
  {
   "cell_type": "markdown",
   "metadata": {},
   "source": [
    "Alrighty, so one track from each of these users doesnt have the Spotify API data"
   ]
  },
  {
   "cell_type": "code",
   "execution_count": 34,
   "metadata": {},
   "outputs": [],
   "source": [
    "seq_train = seq_train.dropna()"
   ]
  },
  {
   "cell_type": "code",
   "execution_count": 35,
   "metadata": {},
   "outputs": [],
   "source": [
    "seq_train = seq_train.drop(axis=1,columns=['null'])"
   ]
  },
  {
   "cell_type": "markdown",
   "metadata": {},
   "source": [
    "Now, for metrics which the model will use, we need the average (and the standard deviation of the distribution ) of the Euclidean distances between all of a users songs where the distance is taken from the 11 dimensional spotify phase space"
   ]
  },
  {
   "cell_type": "markdown",
   "metadata": {},
   "source": [
    "First though, to get a fair distance, we need to normalize our factors"
   ]
  },
  {
   "cell_type": "code",
   "execution_count": 36,
   "metadata": {},
   "outputs": [
    {
     "data": {
      "text/html": [
       "<div>\n",
       "<style scoped>\n",
       "    .dataframe tbody tr th:only-of-type {\n",
       "        vertical-align: middle;\n",
       "    }\n",
       "\n",
       "    .dataframe tbody tr th {\n",
       "        vertical-align: top;\n",
       "    }\n",
       "\n",
       "    .dataframe thead th {\n",
       "        text-align: right;\n",
       "    }\n",
       "</style>\n",
       "<table border=\"1\" class=\"dataframe\">\n",
       "  <thead>\n",
       "    <tr style=\"text-align: right;\">\n",
       "      <th></th>\n",
       "      <th>user_id</th>\n",
       "      <th>track_id</th>\n",
       "      <th>hashtag</th>\n",
       "      <th>created_at</th>\n",
       "      <th>score</th>\n",
       "      <th>tweet_lang</th>\n",
       "      <th>instrumentalness</th>\n",
       "      <th>liveness</th>\n",
       "      <th>speechiness</th>\n",
       "      <th>danceability</th>\n",
       "      <th>valence</th>\n",
       "      <th>loudness</th>\n",
       "      <th>tempo</th>\n",
       "      <th>acousticness</th>\n",
       "      <th>energy</th>\n",
       "      <th>mode</th>\n",
       "      <th>key</th>\n",
       "      <th>rating</th>\n",
       "      <th>current_track</th>\n",
       "      <th>previous_track</th>\n",
       "      <th>zoned</th>\n",
       "      <th>aware</th>\n",
       "      <th>day_w</th>\n",
       "      <th>day_m</th>\n",
       "      <th>hour_d</th>\n",
       "    </tr>\n",
       "  </thead>\n",
       "  <tbody>\n",
       "    <tr>\n",
       "      <td>68807</td>\n",
       "      <td>81496937</td>\n",
       "      <td>2424f31a8a671fa679a12fce2524088a</td>\n",
       "      <td>postpunk</td>\n",
       "      <td>2014-08-15 11:16:38</td>\n",
       "      <td>0.0</td>\n",
       "      <td>en</td>\n",
       "      <td>0.85</td>\n",
       "      <td>0.738</td>\n",
       "      <td>0.0584</td>\n",
       "      <td>0.246</td>\n",
       "      <td>0.0211</td>\n",
       "      <td>-13.994</td>\n",
       "      <td>69.268</td>\n",
       "      <td>0.964</td>\n",
       "      <td>0.974</td>\n",
       "      <td>0.0</td>\n",
       "      <td>4.0</td>\n",
       "      <td>1</td>\n",
       "      <td>2424f31a8a671fa679a12fce2524088a</td>\n",
       "      <td>2424f31a8a671fa679a12fce2524088a</td>\n",
       "      <td>US/Central</td>\n",
       "      <td>2014-08-15 16:16:38+00:00</td>\n",
       "      <td>5</td>\n",
       "      <td>15</td>\n",
       "      <td>16</td>\n",
       "    </tr>\n",
       "  </tbody>\n",
       "</table>\n",
       "</div>"
      ],
      "text/plain": [
       "        user_id                          track_id   hashtag  \\\n",
       "68807  81496937  2424f31a8a671fa679a12fce2524088a  postpunk   \n",
       "\n",
       "                created_at  score tweet_lang  instrumentalness  liveness  \\\n",
       "68807  2014-08-15 11:16:38    0.0         en              0.85     0.738   \n",
       "\n",
       "       speechiness  danceability  valence  loudness   tempo  acousticness  \\\n",
       "68807       0.0584         0.246   0.0211   -13.994  69.268         0.964   \n",
       "\n",
       "       energy  mode  key  rating                     current_track  \\\n",
       "68807   0.974   0.0  4.0       1  2424f31a8a671fa679a12fce2524088a   \n",
       "\n",
       "                         previous_track       zoned                     aware  \\\n",
       "68807  2424f31a8a671fa679a12fce2524088a  US/Central 2014-08-15 16:16:38+00:00   \n",
       "\n",
       "       day_w  day_m  hour_d  \n",
       "68807      5     15      16  "
      ]
     },
     "execution_count": 36,
     "metadata": {},
     "output_type": "execute_result"
    }
   ],
   "source": [
    "seq_train.sample(1)"
   ]
  },
  {
   "cell_type": "code",
   "execution_count": 37,
   "metadata": {},
   "outputs": [],
   "source": [
    "score_a = np.average(seq_train.score.values)\n",
    "score_s = np.std(seq_train.score.values)\n",
    "instrumentalness_a = np.average(seq_train.instrumentalness.values)\n",
    "instrumentalness_s = np.std(seq_train.instrumentalness.values)\n",
    "liveness_a = np.average(seq_train.liveness.values)\n",
    "liveness_s = np.std(seq_train.liveness.values)\n",
    "speechiness_a = np.average(seq_train.speechiness.values)\n",
    "speechiness_s = np.std(seq_train.speechiness.values)\n",
    "danceability_a = np.average(seq_train.danceability.values)\n",
    "danceability_s = np.std(seq_train.danceability.values)\n",
    "valence_a = np.average(seq_train.valence.values)\n",
    "valence_s = np.std(seq_train.valence.values)\n",
    "loudness_a = np.average(seq_train.loudness.values)\n",
    "loudness_s = np.std(seq_train.loudness.values)\n",
    "tempo_a = np.average(seq_train.tempo.values)\n",
    "tempo_s = np.std(seq_train.tempo.values)\n",
    "acousticness_a = np.average(seq_train.acousticness.values)\n",
    "acousticness_s = np.std(seq_train.acousticness.values)\n",
    "energy_a = np.average(seq_train.energy.values)\n",
    "energy_s = np.std(seq_train.energy.values)"
   ]
  },
  {
   "cell_type": "code",
   "execution_count": 38,
   "metadata": {},
   "outputs": [],
   "source": [
    "seq_train.score = seq_train.score.apply(lambda x: (x - score_a) / score_s)\n",
    "seq_train.instrumentalness = seq_train.instrumentalness.apply(lambda x: (x - instrumentalness_a) / instrumentalness_s)\n",
    "seq_train.liveness = seq_train.liveness.apply(lambda x: (x - liveness_a) / liveness_s)\n",
    "seq_train.speechiness = seq_train.speechiness.apply(lambda x: (x - speechiness_a) / speechiness_s)\n",
    "seq_train.danceability = seq_train.danceability.apply(lambda x: (x - danceability_a) / danceability_s)\n",
    "seq_train.valence = seq_train.valence.apply(lambda x: (x - valence_a) / valence_s)\n",
    "seq_train.loudness = seq_train.loudness.apply(lambda x: (x - loudness_a) / loudness_s)\n",
    "seq_train.tempo = seq_train.tempo.apply(lambda x: (x - tempo_a) / tempo_s)\n",
    "seq_train.acousticness = seq_train.acousticness.apply(lambda x: (x - acousticness_a) / acousticness_s)\n",
    "seq_train.energy = seq_train.energy.apply(lambda x: (x - energy_a) / energy_s)"
   ]
  },
  {
   "cell_type": "code",
   "execution_count": 39,
   "metadata": {},
   "outputs": [
    {
     "data": {
      "text/html": [
       "<div>\n",
       "<style scoped>\n",
       "    .dataframe tbody tr th:only-of-type {\n",
       "        vertical-align: middle;\n",
       "    }\n",
       "\n",
       "    .dataframe tbody tr th {\n",
       "        vertical-align: top;\n",
       "    }\n",
       "\n",
       "    .dataframe thead th {\n",
       "        text-align: right;\n",
       "    }\n",
       "</style>\n",
       "<table border=\"1\" class=\"dataframe\">\n",
       "  <thead>\n",
       "    <tr style=\"text-align: right;\">\n",
       "      <th></th>\n",
       "      <th>user_id</th>\n",
       "      <th>track_id</th>\n",
       "      <th>hashtag</th>\n",
       "      <th>created_at</th>\n",
       "      <th>score</th>\n",
       "      <th>tweet_lang</th>\n",
       "      <th>instrumentalness</th>\n",
       "      <th>liveness</th>\n",
       "      <th>speechiness</th>\n",
       "      <th>danceability</th>\n",
       "      <th>valence</th>\n",
       "      <th>loudness</th>\n",
       "      <th>tempo</th>\n",
       "      <th>acousticness</th>\n",
       "      <th>energy</th>\n",
       "      <th>mode</th>\n",
       "      <th>key</th>\n",
       "      <th>rating</th>\n",
       "      <th>current_track</th>\n",
       "      <th>previous_track</th>\n",
       "      <th>zoned</th>\n",
       "      <th>aware</th>\n",
       "      <th>day_w</th>\n",
       "      <th>day_m</th>\n",
       "      <th>hour_d</th>\n",
       "    </tr>\n",
       "  </thead>\n",
       "  <tbody>\n",
       "    <tr>\n",
       "      <td>126204</td>\n",
       "      <td>308580291</td>\n",
       "      <td>c80cec991c61d54779467d12eafdfdc6</td>\n",
       "      <td>np</td>\n",
       "      <td>2014-09-25 17:44:30</td>\n",
       "      <td>0.532485</td>\n",
       "      <td>en</td>\n",
       "      <td>-0.525395</td>\n",
       "      <td>-0.468841</td>\n",
       "      <td>-0.381418</td>\n",
       "      <td>-0.694105</td>\n",
       "      <td>-1.377431</td>\n",
       "      <td>-2.049992</td>\n",
       "      <td>-0.637002</td>\n",
       "      <td>0.234811</td>\n",
       "      <td>-0.791592</td>\n",
       "      <td>0.0</td>\n",
       "      <td>0.0</td>\n",
       "      <td>1</td>\n",
       "      <td>c80cec991c61d54779467d12eafdfdc6</td>\n",
       "      <td>a714fa6b4a9de71a820eb86c982716ad</td>\n",
       "      <td>Europe/Amsterdam</td>\n",
       "      <td>2014-09-25 15:44:30+00:00</td>\n",
       "      <td>4</td>\n",
       "      <td>25</td>\n",
       "      <td>15</td>\n",
       "    </tr>\n",
       "  </tbody>\n",
       "</table>\n",
       "</div>"
      ],
      "text/plain": [
       "          user_id                          track_id hashtag  \\\n",
       "126204  308580291  c80cec991c61d54779467d12eafdfdc6      np   \n",
       "\n",
       "                 created_at     score tweet_lang  instrumentalness  liveness  \\\n",
       "126204  2014-09-25 17:44:30  0.532485         en         -0.525395 -0.468841   \n",
       "\n",
       "        speechiness  danceability   valence  loudness     tempo  acousticness  \\\n",
       "126204    -0.381418     -0.694105 -1.377431 -2.049992 -0.637002      0.234811   \n",
       "\n",
       "          energy  mode  key  rating                     current_track  \\\n",
       "126204 -0.791592   0.0  0.0       1  c80cec991c61d54779467d12eafdfdc6   \n",
       "\n",
       "                          previous_track             zoned  \\\n",
       "126204  a714fa6b4a9de71a820eb86c982716ad  Europe/Amsterdam   \n",
       "\n",
       "                           aware  day_w  day_m  hour_d  \n",
       "126204 2014-09-25 15:44:30+00:00      4     25      15  "
      ]
     },
     "execution_count": 39,
     "metadata": {},
     "output_type": "execute_result"
    }
   ],
   "source": [
    "seq_train.sample(1)"
   ]
  },
  {
   "cell_type": "code",
   "execution_count": 40,
   "metadata": {},
   "outputs": [],
   "source": [
    "seq_train['avg'] = 0\n",
    "seq_train['sd'] = 0"
   ]
  },
  {
   "cell_type": "code",
   "execution_count": 41,
   "metadata": {},
   "outputs": [],
   "source": [
    "seq_train.to_pickle('/home/dwooten/Documents/insight/data/pickup.pk')"
   ]
  },
  {
   "cell_type": "code",
   "execution_count": 42,
   "metadata": {},
   "outputs": [],
   "source": [
    "restart = pd.read_pickle('/home/dwooten/Documents/insight/data/pickup.pk')"
   ]
  },
  {
   "cell_type": "code",
   "execution_count": 43,
   "metadata": {},
   "outputs": [],
   "source": [
    "def get_user_metrics(df):\n",
    "    \"\"\"This function returns the average and standard deviation of the distances between all of a users songs\n",
    "    as measured by the 11 dimensional spotify space\"\"\"\n",
    "        \n",
    "    for user in df.user_id.unique():\n",
    "\n",
    "        d_array = np.zeros(len(df[df.user_id == user].track_id.unique())**2)\n",
    "\n",
    "        df_user = df[df.user_id == user]\n",
    "        \n",
    "        # Just as in the agent class, here we drop liveness, key, mode, and rating\n",
    "        \n",
    "        track_array = df_user.drop_duplicates('track_id').loc[:,['instrumentalness','speechiness','danceability','valence','loudness','tempo','acousticness','energy']].values\n",
    "        \n",
    "        start = 0\n",
    "                \n",
    "        for i in range(track_array.shape[0]):\n",
    "            \n",
    "            a = np.sqrt(np.sum(np.power((track_array - track_array[i]),2), axis = 1))\n",
    "            \n",
    "            d_array[start:(start + track_array.shape[0])] = a\n",
    "            \n",
    "            i += 1\n",
    "            \n",
    "            start = start + track_array.shape[0]\n",
    "\n",
    "        df.loc[df.user_id == user, 'avg'] = np.average(d_array)\n",
    "\n",
    "        df.loc[df.user_id == user, 'sd'] = np.std(d_array)\n",
    "    "
   ]
  },
  {
   "cell_type": "code",
   "execution_count": 44,
   "metadata": {},
   "outputs": [],
   "source": [
    "get_user_metrics(restart)"
   ]
  },
  {
   "cell_type": "code",
   "execution_count": 45,
   "metadata": {},
   "outputs": [
    {
     "data": {
      "text/plain": [
       "count    253024.0\n",
       "mean          1.0\n",
       "std           0.0\n",
       "min           1.0\n",
       "25%           1.0\n",
       "50%           1.0\n",
       "75%           1.0\n",
       "max           1.0\n",
       "Name: rating, dtype: float64"
      ]
     },
     "execution_count": 45,
     "metadata": {},
     "output_type": "execute_result"
    }
   ],
   "source": [
    "restart.rating.describe()"
   ]
  },
  {
   "cell_type": "code",
   "execution_count": 46,
   "metadata": {},
   "outputs": [
    {
     "data": {
      "text/plain": [
       "count    253024.000000\n",
       "mean          1.322721\n",
       "std           0.210951\n",
       "min           0.000000\n",
       "25%           1.220916\n",
       "50%           1.296225\n",
       "75%           1.394226\n",
       "max           4.792794\n",
       "Name: sd, dtype: float64"
      ]
     },
     "execution_count": 46,
     "metadata": {},
     "output_type": "execute_result"
    }
   ],
   "source": [
    "restart.sd.describe()"
   ]
  },
  {
   "cell_type": "markdown",
   "metadata": {},
   "source": [
    "Here I reduce 8 of the numeric song vectors into a lower order set of 4"
   ]
  },
  {
   "cell_type": "code",
   "execution_count": 47,
   "metadata": {},
   "outputs": [],
   "source": [
    "factors = restart.loc[:,['instrumentalness','speechiness','danceability','valence','loudness','tempo','acousticness','energy']].values"
   ]
  },
  {
   "cell_type": "code",
   "execution_count": 48,
   "metadata": {},
   "outputs": [
    {
     "name": "stdout",
     "output_type": "stream",
     "text": [
      "0.4778608610029545\n",
      "0.6031694426048275\n",
      "0.7219338664440349\n",
      "0.8360661895210812\n",
      "0.912914185631764\n",
      "0.9711867725854835\n"
     ]
    }
   ],
   "source": [
    "for i in range(2,8):\n",
    "    pca = PCA(n_components = i, whiten = True)\n",
    "    sample =pca.fit_transform(factors)\n",
    "    print(sum(pca.explained_variance_ratio_))"
   ]
  },
  {
   "cell_type": "code",
   "execution_count": 49,
   "metadata": {},
   "outputs": [],
   "source": [
    "pca = PCA(n_components=6, whiten = True)"
   ]
  },
  {
   "cell_type": "code",
   "execution_count": 50,
   "metadata": {},
   "outputs": [],
   "source": [
    "reduced = pca.fit_transform(factors)"
   ]
  },
  {
   "cell_type": "code",
   "execution_count": 51,
   "metadata": {},
   "outputs": [],
   "source": [
    "restart = restart.rename(columns={'key':'k', 'mode' : 'm'})"
   ]
  },
  {
   "cell_type": "code",
   "execution_count": 52,
   "metadata": {},
   "outputs": [],
   "source": [
    "tmp = pd.DataFrame(data = reduced, columns = ['r0', 'r1', 'r2','r3','r4', 'r5'])"
   ]
  },
  {
   "cell_type": "code",
   "execution_count": 53,
   "metadata": {},
   "outputs": [
    {
     "data": {
      "text/plain": [
       "array([-0.42728962, -0.50939393, -1.04577366, ..., -0.05860191,\n",
       "       -1.16708666, -0.62472458])"
      ]
     },
     "execution_count": 53,
     "metadata": {},
     "output_type": "execute_result"
    }
   ],
   "source": [
    "tmp.r0.values"
   ]
  },
  {
   "cell_type": "code",
   "execution_count": 54,
   "metadata": {},
   "outputs": [],
   "source": [
    "restart = pd.concat([restart, tmp], axis = 1)"
   ]
  },
  {
   "cell_type": "markdown",
   "metadata": {},
   "source": [
    "We're going to need to store and keep the means of these new vectors"
   ]
  },
  {
   "cell_type": "code",
   "execution_count": 55,
   "metadata": {},
   "outputs": [
    {
     "data": {
      "text/html": [
       "<div>\n",
       "<style scoped>\n",
       "    .dataframe tbody tr th:only-of-type {\n",
       "        vertical-align: middle;\n",
       "    }\n",
       "\n",
       "    .dataframe tbody tr th {\n",
       "        vertical-align: top;\n",
       "    }\n",
       "\n",
       "    .dataframe thead th {\n",
       "        text-align: right;\n",
       "    }\n",
       "</style>\n",
       "<table border=\"1\" class=\"dataframe\">\n",
       "  <thead>\n",
       "    <tr style=\"text-align: right;\">\n",
       "      <th></th>\n",
       "      <th>user_id</th>\n",
       "      <th>track_id</th>\n",
       "      <th>hashtag</th>\n",
       "      <th>created_at</th>\n",
       "      <th>score</th>\n",
       "      <th>tweet_lang</th>\n",
       "      <th>instrumentalness</th>\n",
       "      <th>liveness</th>\n",
       "      <th>speechiness</th>\n",
       "      <th>danceability</th>\n",
       "      <th>valence</th>\n",
       "      <th>loudness</th>\n",
       "      <th>tempo</th>\n",
       "      <th>acousticness</th>\n",
       "      <th>energy</th>\n",
       "      <th>m</th>\n",
       "      <th>k</th>\n",
       "      <th>rating</th>\n",
       "      <th>current_track</th>\n",
       "      <th>previous_track</th>\n",
       "      <th>zoned</th>\n",
       "      <th>aware</th>\n",
       "      <th>day_w</th>\n",
       "      <th>day_m</th>\n",
       "      <th>hour_d</th>\n",
       "      <th>avg</th>\n",
       "      <th>sd</th>\n",
       "      <th>r0</th>\n",
       "      <th>r1</th>\n",
       "      <th>r2</th>\n",
       "      <th>r3</th>\n",
       "      <th>r4</th>\n",
       "      <th>r5</th>\n",
       "    </tr>\n",
       "  </thead>\n",
       "  <tbody>\n",
       "    <tr>\n",
       "      <td>70505</td>\n",
       "      <td>81496937</td>\n",
       "      <td>f0cfb4f4ebfad1da0190c99773c93c5b</td>\n",
       "      <td>postpunk</td>\n",
       "      <td>2014-08-25 19:55:30</td>\n",
       "      <td>-1.677844</td>\n",
       "      <td>en</td>\n",
       "      <td>2.079999</td>\n",
       "      <td>0.829422</td>\n",
       "      <td>3.993822</td>\n",
       "      <td>-0.642685</td>\n",
       "      <td>-1.041786</td>\n",
       "      <td>0.672421</td>\n",
       "      <td>0.080007</td>\n",
       "      <td>-0.540402</td>\n",
       "      <td>1.467021</td>\n",
       "      <td>0.0</td>\n",
       "      <td>6.0</td>\n",
       "      <td>1.0</td>\n",
       "      <td>f0cfb4f4ebfad1da0190c99773c93c5b</td>\n",
       "      <td>f0cfb4f4ebfad1da0190c99773c93c5b</td>\n",
       "      <td>US/Central</td>\n",
       "      <td>2014-08-26 00:55:30+00:00</td>\n",
       "      <td>2.0</td>\n",
       "      <td>26.0</td>\n",
       "      <td>0.0</td>\n",
       "      <td>3.757302</td>\n",
       "      <td>1.394226</td>\n",
       "      <td>-1.086802</td>\n",
       "      <td>1.083715</td>\n",
       "      <td>1.932672</td>\n",
       "      <td>1.848462</td>\n",
       "      <td>3.603073</td>\n",
       "      <td>-1.459905</td>\n",
       "    </tr>\n",
       "  </tbody>\n",
       "</table>\n",
       "</div>"
      ],
      "text/plain": [
       "        user_id                          track_id   hashtag  \\\n",
       "70505  81496937  f0cfb4f4ebfad1da0190c99773c93c5b  postpunk   \n",
       "\n",
       "                created_at     score tweet_lang  instrumentalness  liveness  \\\n",
       "70505  2014-08-25 19:55:30 -1.677844         en          2.079999  0.829422   \n",
       "\n",
       "       speechiness  danceability   valence  loudness     tempo  acousticness  \\\n",
       "70505     3.993822     -0.642685 -1.041786  0.672421  0.080007     -0.540402   \n",
       "\n",
       "         energy    m    k  rating                     current_track  \\\n",
       "70505  1.467021  0.0  6.0     1.0  f0cfb4f4ebfad1da0190c99773c93c5b   \n",
       "\n",
       "                         previous_track       zoned                     aware  \\\n",
       "70505  f0cfb4f4ebfad1da0190c99773c93c5b  US/Central 2014-08-26 00:55:30+00:00   \n",
       "\n",
       "       day_w  day_m  hour_d       avg        sd        r0        r1        r2  \\\n",
       "70505    2.0   26.0     0.0  3.757302  1.394226 -1.086802  1.083715  1.932672   \n",
       "\n",
       "             r3        r4        r5  \n",
       "70505  1.848462  3.603073 -1.459905  "
      ]
     },
     "execution_count": 55,
     "metadata": {},
     "output_type": "execute_result"
    }
   ],
   "source": [
    "restart.sample()"
   ]
  },
  {
   "cell_type": "code",
   "execution_count": 56,
   "metadata": {},
   "outputs": [],
   "source": [
    "restart.to_pickle('/home/dwooten/Documents/insight/data/clean.pk')"
   ]
  },
  {
   "cell_type": "code",
   "execution_count": 103,
   "metadata": {},
   "outputs": [],
   "source": [
    "restart = pd.read_pickle('/home/dwooten/Documents/insight/data/clean.pk')"
   ]
  },
  {
   "cell_type": "code",
   "execution_count": 104,
   "metadata": {},
   "outputs": [],
   "source": [
    "users = restart.user_id.unique()"
   ]
  },
  {
   "cell_type": "code",
   "execution_count": 105,
   "metadata": {},
   "outputs": [],
   "source": [
    "len_users = [restart[restart.user_id == x].shape[0] for x in users]"
   ]
  },
  {
   "cell_type": "code",
   "execution_count": 106,
   "metadata": {},
   "outputs": [
    {
     "data": {
      "text/plain": [
       "659"
      ]
     },
     "execution_count": 106,
     "metadata": {},
     "output_type": "execute_result"
    }
   ],
   "source": [
    "len_users.index(5)"
   ]
  },
  {
   "cell_type": "markdown",
   "metadata": {},
   "source": [
    "Users with fewer than 4 songs simply aren't helpful"
   ]
  },
  {
   "cell_type": "code",
   "execution_count": 107,
   "metadata": {},
   "outputs": [],
   "source": [
    "user_len_dict = dict(zip(users, len_users))"
   ]
  },
  {
   "cell_type": "code",
   "execution_count": 108,
   "metadata": {},
   "outputs": [],
   "source": [
    "mask = [True if user_len_dict[x] > 4 else False for x in restart.user_id.to_list()]"
   ]
  },
  {
   "cell_type": "markdown",
   "metadata": {},
   "source": []
  },
  {
   "cell_type": "code",
   "execution_count": 109,
   "metadata": {},
   "outputs": [],
   "source": [
    "trimmed = restart[mask]"
   ]
  },
  {
   "cell_type": "code",
   "execution_count": 110,
   "metadata": {},
   "outputs": [],
   "source": [
    "trimmed = trimmed.dropna()"
   ]
  },
  {
   "cell_type": "code",
   "execution_count": 111,
   "metadata": {},
   "outputs": [],
   "source": [
    "kmeans = KMeans(n_clusters=10).fit(trimmed.loc[:,['r0', 'r1', 'r2','r3','r4', 'r5']])"
   ]
  },
  {
   "cell_type": "code",
   "execution_count": 112,
   "metadata": {},
   "outputs": [
    {
     "data": {
      "text/plain": [
       "False"
      ]
     },
     "execution_count": 112,
     "metadata": {},
     "output_type": "execute_result"
    }
   ],
   "source": [
    "np.isnan(kmeans.labels_).any()"
   ]
  },
  {
   "cell_type": "code",
   "execution_count": 113,
   "metadata": {},
   "outputs": [],
   "source": [
    "km = pd.DataFrame(kmeans.labels_, columns=['cluster'])"
   ]
  },
  {
   "cell_type": "code",
   "execution_count": 114,
   "metadata": {},
   "outputs": [
    {
     "data": {
      "text/plain": [
       "(251084, 1)"
      ]
     },
     "execution_count": 114,
     "metadata": {},
     "output_type": "execute_result"
    }
   ],
   "source": [
    "km.shape"
   ]
  },
  {
   "cell_type": "code",
   "execution_count": 115,
   "metadata": {},
   "outputs": [
    {
     "data": {
      "text/plain": [
       "(251084, 33)"
      ]
     },
     "execution_count": 115,
     "metadata": {},
     "output_type": "execute_result"
    }
   ],
   "source": [
    "trimmed.shape"
   ]
  },
  {
   "cell_type": "code",
   "execution_count": 116,
   "metadata": {},
   "outputs": [
    {
     "data": {
      "text/plain": [
       "False"
      ]
     },
     "execution_count": 116,
     "metadata": {},
     "output_type": "execute_result"
    }
   ],
   "source": [
    "np.isnan(km.cluster.values).any()"
   ]
  },
  {
   "cell_type": "code",
   "execution_count": 117,
   "metadata": {},
   "outputs": [],
   "source": [
    "trimmed = pd.concat((trimmed, km), axis = 1)"
   ]
  },
  {
   "cell_type": "code",
   "execution_count": 118,
   "metadata": {},
   "outputs": [
    {
     "data": {
      "text/html": [
       "<div>\n",
       "<style scoped>\n",
       "    .dataframe tbody tr th:only-of-type {\n",
       "        vertical-align: middle;\n",
       "    }\n",
       "\n",
       "    .dataframe tbody tr th {\n",
       "        vertical-align: top;\n",
       "    }\n",
       "\n",
       "    .dataframe thead th {\n",
       "        text-align: right;\n",
       "    }\n",
       "</style>\n",
       "<table border=\"1\" class=\"dataframe\">\n",
       "  <thead>\n",
       "    <tr style=\"text-align: right;\">\n",
       "      <th></th>\n",
       "      <th>user_id</th>\n",
       "      <th>track_id</th>\n",
       "      <th>hashtag</th>\n",
       "      <th>created_at</th>\n",
       "      <th>score</th>\n",
       "      <th>tweet_lang</th>\n",
       "      <th>instrumentalness</th>\n",
       "      <th>liveness</th>\n",
       "      <th>speechiness</th>\n",
       "      <th>danceability</th>\n",
       "      <th>valence</th>\n",
       "      <th>loudness</th>\n",
       "      <th>tempo</th>\n",
       "      <th>acousticness</th>\n",
       "      <th>energy</th>\n",
       "      <th>m</th>\n",
       "      <th>k</th>\n",
       "      <th>rating</th>\n",
       "      <th>current_track</th>\n",
       "      <th>previous_track</th>\n",
       "      <th>zoned</th>\n",
       "      <th>aware</th>\n",
       "      <th>day_w</th>\n",
       "      <th>day_m</th>\n",
       "      <th>hour_d</th>\n",
       "      <th>avg</th>\n",
       "      <th>sd</th>\n",
       "      <th>r0</th>\n",
       "      <th>r1</th>\n",
       "      <th>r2</th>\n",
       "      <th>r3</th>\n",
       "      <th>r4</th>\n",
       "      <th>r5</th>\n",
       "      <th>cluster</th>\n",
       "    </tr>\n",
       "  </thead>\n",
       "  <tbody>\n",
       "    <tr>\n",
       "      <td>90540</td>\n",
       "      <td>1083272065</td>\n",
       "      <td>2ab6557b1e2559cb2d07d7171d3f3cca</td>\n",
       "      <td>urbantraxxradio</td>\n",
       "      <td>2014-08-15 18:52:07</td>\n",
       "      <td>0.614349</td>\n",
       "      <td>en</td>\n",
       "      <td>-0.530494</td>\n",
       "      <td>-0.410125</td>\n",
       "      <td>-0.166645</td>\n",
       "      <td>1.654088</td>\n",
       "      <td>-0.119774</td>\n",
       "      <td>-0.070607</td>\n",
       "      <td>-0.916921</td>\n",
       "      <td>-0.526982</td>\n",
       "      <td>-0.920803</td>\n",
       "      <td>1.0</td>\n",
       "      <td>1.0</td>\n",
       "      <td>1.0</td>\n",
       "      <td>2ab6557b1e2559cb2d07d7171d3f3cca</td>\n",
       "      <td>1827a1398750b0210f5f2394eb56fe47</td>\n",
       "      <td>Europe/Amsterdam</td>\n",
       "      <td>2014-08-15 16:52:07+00:00</td>\n",
       "      <td>5.0</td>\n",
       "      <td>15.0</td>\n",
       "      <td>16.0</td>\n",
       "      <td>3.597171</td>\n",
       "      <td>1.597221</td>\n",
       "      <td>0.330467</td>\n",
       "      <td>-1.211423</td>\n",
       "      <td>-0.139914</td>\n",
       "      <td>-0.605621</td>\n",
       "      <td>0.385268</td>\n",
       "      <td>0.801137</td>\n",
       "      <td>1.0</td>\n",
       "    </tr>\n",
       "  </tbody>\n",
       "</table>\n",
       "</div>"
      ],
      "text/plain": [
       "          user_id                          track_id          hashtag  \\\n",
       "90540  1083272065  2ab6557b1e2559cb2d07d7171d3f3cca  urbantraxxradio   \n",
       "\n",
       "                created_at     score tweet_lang  instrumentalness  liveness  \\\n",
       "90540  2014-08-15 18:52:07  0.614349         en         -0.530494 -0.410125   \n",
       "\n",
       "       speechiness  danceability   valence  loudness     tempo  acousticness  \\\n",
       "90540    -0.166645      1.654088 -0.119774 -0.070607 -0.916921     -0.526982   \n",
       "\n",
       "         energy    m    k  rating                     current_track  \\\n",
       "90540 -0.920803  1.0  1.0     1.0  2ab6557b1e2559cb2d07d7171d3f3cca   \n",
       "\n",
       "                         previous_track             zoned  \\\n",
       "90540  1827a1398750b0210f5f2394eb56fe47  Europe/Amsterdam   \n",
       "\n",
       "                          aware  day_w  day_m  hour_d       avg        sd  \\\n",
       "90540 2014-08-15 16:52:07+00:00    5.0   15.0    16.0  3.597171  1.597221   \n",
       "\n",
       "             r0        r1        r2        r3        r4        r5  cluster  \n",
       "90540  0.330467 -1.211423 -0.139914 -0.605621  0.385268  0.801137      1.0  "
      ]
     },
     "execution_count": 118,
     "metadata": {},
     "output_type": "execute_result"
    }
   ],
   "source": [
    "trimmed.sample()"
   ]
  },
  {
   "cell_type": "code",
   "execution_count": 119,
   "metadata": {},
   "outputs": [
    {
     "data": {
      "text/plain": [
       "True"
      ]
     },
     "execution_count": 119,
     "metadata": {},
     "output_type": "execute_result"
    }
   ],
   "source": [
    "np.isnan(trimmed.cluster.values).any()"
   ]
  },
  {
   "cell_type": "code",
   "execution_count": 120,
   "metadata": {},
   "outputs": [
    {
     "data": {
      "text/plain": [
       "4"
      ]
     },
     "execution_count": 120,
     "metadata": {},
     "output_type": "execute_result"
    }
   ],
   "source": [
    "np.sum(np.isnan(trimmed.cluster.values))"
   ]
  },
  {
   "cell_type": "markdown",
   "metadata": {},
   "source": [
    "Rude ^"
   ]
  },
  {
   "cell_type": "code",
   "execution_count": 101,
   "metadata": {
    "scrolled": true
   },
   "outputs": [],
   "source": [
    "trimmed = trimmed.dropna()"
   ]
  },
  {
   "cell_type": "code",
   "execution_count": 102,
   "metadata": {},
   "outputs": [],
   "source": [
    "trimmed.to_pickle('/home/dwooten/Documents/insight/data/trimmed.pk')"
   ]
  },
  {
   "cell_type": "code",
   "execution_count": 77,
   "metadata": {},
   "outputs": [
    {
     "data": {
      "text/plain": [
       "False"
      ]
     },
     "execution_count": 77,
     "metadata": {},
     "output_type": "execute_result"
    }
   ],
   "source": [
    "np.isnan(trimmed.cluster.values).any()"
   ]
  },
  {
   "cell_type": "code",
   "execution_count": 82,
   "metadata": {},
   "outputs": [
    {
     "data": {
      "text/plain": [
       "(251080, 34)"
      ]
     },
     "execution_count": 82,
     "metadata": {},
     "output_type": "execute_result"
    }
   ],
   "source": [
    "trimmed.shape"
   ]
  },
  {
   "cell_type": "code",
   "execution_count": null,
   "metadata": {},
   "outputs": [],
   "source": []
  }
 ],
 "metadata": {
  "kernelspec": {
   "display_name": "Python 3",
   "language": "python",
   "name": "python3"
  },
  "language_info": {
   "codemirror_mode": {
    "name": "ipython",
    "version": 3
   },
   "file_extension": ".py",
   "mimetype": "text/x-python",
   "name": "python",
   "nbconvert_exporter": "python",
   "pygments_lexer": "ipython3",
   "version": "3.7.4"
  }
 },
 "nbformat": 4,
 "nbformat_minor": 2
}
